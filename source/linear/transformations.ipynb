{
 "cells": [
  {
   "cell_type": "code",
   "execution_count": 1,
   "metadata": {},
   "outputs": [],
   "source": [
    "import warnings\n",
    "warnings.filterwarnings('ignore')"
   ]
  },
  {
   "cell_type": "code",
   "execution_count": 2,
   "metadata": {},
   "outputs": [],
   "source": [
    "%matplotlib inline"
   ]
  },
  {
   "cell_type": "code",
   "execution_count": 3,
   "metadata": {},
   "outputs": [],
   "source": [
    "import numpy as np\n",
    "import scipy.stats as stats\n",
    "import seaborn as sns\n",
    "import matplotlib.pyplot as plt\n",
    "import pandas as pd\n",
    "import random\n",
    "import patsy\n",
    "import sklearn.linear_model as linear\n",
    "\n",
    "sns.set(style=\"whitegrid\")\n",
    "\n",
    "import sys\n",
    "sys.path.append('resources')\n",
    "import models"
   ]
  },
  {
   "cell_type": "markdown",
   "metadata": {},
   "source": [
    "# Transformations\n",
    "\n",
    "At several points in the previous discussions we have hinted at the possibility that transformations might improve the performance and or interpretability of a linear model. In this section, we'll talk about a variety of transformations that accomplish these goals."
   ]
  },
  {
   "cell_type": "markdown",
   "metadata": {},
   "source": [
    "## Scaling\n",
    "\n",
    "Let's review the two jobs that a single $\\beta$ does.\n",
    "\n",
    "Imagine we want to predict some $y$ that has a range of 27 to 89 and we want to model it with an $x$ with the range 345 to 763. Our first observation is that if we have an equation of the form $y = \\beta_0 + \\beta_1 x$ then $\\beta_1$ must *at least* be on the order of 0.#  (1/10th) because $y$ and $x$ differ in magnitude by that much. Therefore, before  before $\\beta_1$ does anything else, it must *scale* the value of $x$ to be of the same magnitude of $y$.\n",
    "\n",
    "It follows that if we start adding features of different magnitudes, some of them in the 000's and some in the 0.000's, then the $\\beta$'s must all adjust to the scales of their respective features. This makes it difficult to determine the relative contributions of each predictor (as measured by $\\beta_i$).\n",
    "\n",
    "Additionally, we have the problem of interpreting $\\beta_0$, the intercept, when all $x_i$ are zero. It doesn't make any sense for someone to have zero IQ, zero height, zero weight, etc.\n",
    "\n",
    "Therefore, in order to make coefficients more interpreterable, it is often desirable to transform the variables ahead of time to a common scale. There are two such transformations:\n",
    "\n",
    "1. subtract each value $x_i$ from its mean $\\bar{x_i}$. This creates mean *centered* feature.\n",
    "2. Take mean centered data and divide through by $x_i$'s standard deviation, $\\sigma_{x_i}$. This creates a mean *scaled* feature.\n",
    "\n",
    "We only apply this transformation to *numerical* features and not dummy variables.\n",
    "\n",
    "Mean scaling accomplishes two things:\n",
    "\n",
    "1. Zero is a meaningful value for each $x_i$, the mean value of $x_i$ and thus the intercept $\\beta_0$ is interpretable as the value when all $x_i$ are at their mean.\n",
    "2. Each variable is projected into the standard normal distribution (mean of 0 and standard deviation of 1) so that they're all on the same scale. A unit change is a change of 1 standard deviation in the standard normal distribution.\n",
    "\n",
    "Mean *centering* accomplishes only the first thing.\n",
    "\n",
    "However, if you use mean scaling for a *logistic* regression, then \"+1\" is an entire standard deviation of data. This means that \"Divide by 4\" won't work and you'll need to figure out what \"+1\" in real units is in standard deviations. Often it is better to just use mean *centered* data for logistic regression. \n",
    "\n",
    "Finally, mean scaling puts the units in \"standard units\" and mean centering leaves the units in the \"natural\" units such as feet, square feet, IQ points, etc. This is often desirable."
   ]
  },
  {
   "cell_type": "code",
   "execution_count": 4,
   "metadata": {},
   "outputs": [],
   "source": [
    "def mean_scale( df, variable):\n",
    "    x_bar = df[ variable].mean()\n",
    "    std = df[ variable].std()\n",
    "    scaled_variable = (df[ variable] - x_bar) / (2.0 * std) # suggested by Gelman\n",
    "    df[ variable + \"_scaled\"] = scaled_variable\n",
    "    \n",
    "def mean_center( df, variable):\n",
    "    x_bar = df[ variable].mean()\n",
    "    scaled_variable = df[ variable] - x_bar\n",
    "    df[ variable + \"_centered\"] = scaled_variable"
   ]
  },
  {
   "cell_type": "markdown",
   "metadata": {},
   "source": [
    "Back to child IQs..."
   ]
  },
  {
   "cell_type": "code",
   "execution_count": 5,
   "metadata": {},
   "outputs": [],
   "source": [
    "child_iq = pd.read_csv( \"resources/child_iq.tsv\", sep=\"\\t\")"
   ]
  },
  {
   "cell_type": "code",
   "execution_count": 6,
   "metadata": {},
   "outputs": [],
   "source": [
    "mean_scale(child_iq, \"child_iq\")\n",
    "mean_scale(child_iq, \"mom_iq\")\n",
    "mean_scale(child_iq, \"mom_age\")"
   ]
  },
  {
   "cell_type": "code",
   "execution_count": 7,
   "metadata": {},
   "outputs": [
    {
     "data": {
      "text/html": [
       "<div>\n",
       "<style scoped>\n",
       "    .dataframe tbody tr th:only-of-type {\n",
       "        vertical-align: middle;\n",
       "    }\n",
       "\n",
       "    .dataframe tbody tr th {\n",
       "        vertical-align: top;\n",
       "    }\n",
       "\n",
       "    .dataframe thead th {\n",
       "        text-align: right;\n",
       "    }\n",
       "</style>\n",
       "<table border=\"1\" class=\"dataframe\">\n",
       "  <thead>\n",
       "    <tr style=\"text-align: right;\">\n",
       "      <th></th>\n",
       "      <th>child_iq</th>\n",
       "      <th>mom_hs</th>\n",
       "      <th>mom_iq</th>\n",
       "      <th>mom_work</th>\n",
       "      <th>mom_age</th>\n",
       "      <th>child_iq_scaled</th>\n",
       "      <th>mom_iq_scaled</th>\n",
       "      <th>mom_age_scaled</th>\n",
       "    </tr>\n",
       "  </thead>\n",
       "  <tbody>\n",
       "    <tr>\n",
       "      <th>0</th>\n",
       "      <td>65</td>\n",
       "      <td>1</td>\n",
       "      <td>121.117529</td>\n",
       "      <td>4</td>\n",
       "      <td>27</td>\n",
       "      <td>-0.533966</td>\n",
       "      <td>0.703918</td>\n",
       "      <td>0.780114</td>\n",
       "    </tr>\n",
       "    <tr>\n",
       "      <th>1</th>\n",
       "      <td>98</td>\n",
       "      <td>1</td>\n",
       "      <td>89.361882</td>\n",
       "      <td>4</td>\n",
       "      <td>25</td>\n",
       "      <td>0.274434</td>\n",
       "      <td>-0.354604</td>\n",
       "      <td>0.409891</td>\n",
       "    </tr>\n",
       "    <tr>\n",
       "      <th>2</th>\n",
       "      <td>85</td>\n",
       "      <td>1</td>\n",
       "      <td>115.443165</td>\n",
       "      <td>4</td>\n",
       "      <td>27</td>\n",
       "      <td>-0.044027</td>\n",
       "      <td>0.514772</td>\n",
       "      <td>0.780114</td>\n",
       "    </tr>\n",
       "    <tr>\n",
       "      <th>3</th>\n",
       "      <td>83</td>\n",
       "      <td>1</td>\n",
       "      <td>99.449639</td>\n",
       "      <td>3</td>\n",
       "      <td>25</td>\n",
       "      <td>-0.093021</td>\n",
       "      <td>-0.018345</td>\n",
       "      <td>0.409891</td>\n",
       "    </tr>\n",
       "    <tr>\n",
       "      <th>4</th>\n",
       "      <td>115</td>\n",
       "      <td>1</td>\n",
       "      <td>92.745710</td>\n",
       "      <td>4</td>\n",
       "      <td>27</td>\n",
       "      <td>0.690882</td>\n",
       "      <td>-0.241810</td>\n",
       "      <td>0.780114</td>\n",
       "    </tr>\n",
       "  </tbody>\n",
       "</table>\n",
       "</div>"
      ],
      "text/plain": [
       "   child_iq  mom_hs      mom_iq  mom_work  mom_age  child_iq_scaled  \\\n",
       "0        65       1  121.117529         4       27        -0.533966   \n",
       "1        98       1   89.361882         4       25         0.274434   \n",
       "2        85       1  115.443165         4       27        -0.044027   \n",
       "3        83       1   99.449639         3       25        -0.093021   \n",
       "4       115       1   92.745710         4       27         0.690882   \n",
       "\n",
       "   mom_iq_scaled  mom_age_scaled  \n",
       "0       0.703918        0.780114  \n",
       "1      -0.354604        0.409891  \n",
       "2       0.514772        0.780114  \n",
       "3      -0.018345        0.409891  \n",
       "4      -0.241810        0.780114  "
      ]
     },
     "execution_count": 7,
     "metadata": {},
     "output_type": "execute_result"
    }
   ],
   "source": [
    "child_iq.head()"
   ]
  },
  {
   "cell_type": "markdown",
   "metadata": {},
   "source": [
    "Here's the unscaled model:"
   ]
  },
  {
   "cell_type": "code",
   "execution_count": 8,
   "metadata": {},
   "outputs": [
    {
     "name": "stdout",
     "output_type": "stream",
     "text": [
      "Model: child_iq ~ mom_iq + mom_age\n",
      "------------  ---------  -----  -------  -----\n",
      "                                95% BCI\n",
      "Coefficients             Mean   Lo       Hi\n",
      "              $\\beta_0$  17.60  2.07     37.50\n",
      "mom_iq        $\\beta_1$  0.60   0.51     0.71\n",
      "mom_age       $\\beta_2$  0.39   -0.30    0.94\n",
      "\n",
      "Metrics       Mean       Lo     Hi\n",
      "$\\sigma$      18.26      17.01  19.21\n",
      "$R^2$         0.20       0.15   0.27\n",
      "------------  ---------  -----  -------  -----\n"
     ]
    }
   ],
   "source": [
    "model = \"child_iq ~ mom_iq + mom_age\"\n",
    "result = models.bootstrap_linear_regression(model, data=child_iq)\n",
    "print(models.describe_bootstrap_lr(result))"
   ]
  },
  {
   "cell_type": "markdown",
   "metadata": {},
   "source": [
    "Although mom_iq is in the same exact units as child_iq, mom_age and child_iq do not share the same units and they are even of slightly different magnitudes. We know that neither mom_iq nor mom_age can be zero so what is $\\beta_0$? This is the same model and the same problem as before.\n",
    "\n",
    "Here's a completely scaled model:"
   ]
  },
  {
   "cell_type": "code",
   "execution_count": 9,
   "metadata": {},
   "outputs": [
    {
     "name": "stdout",
     "output_type": "stream",
     "text": [
      "Model: child_iq_scaled ~ mom_iq_scaled + mom_age_scaled\n",
      "--------------  ---------  -----  -------  ----\n",
      "                                  95% BCI\n",
      "Coefficients               Mean   Lo       Hi\n",
      "                $\\beta_0$  -0.00  -0.04    0.05\n",
      "mom_iq_scaled   $\\beta_1$  0.44   0.37     0.52\n",
      "mom_age_scaled  $\\beta_2$  0.05   -0.04    0.12\n",
      "\n",
      "Metrics         Mean       Lo     Hi\n",
      "$\\sigma$        0.45       0.41   0.47\n",
      "$R^2$           0.20       0.15   0.28\n",
      "--------------  ---------  -----  -------  ----\n"
     ]
    }
   ],
   "source": [
    "model = \"child_iq_scaled ~ mom_iq_scaled + mom_age_scaled\"\n",
    "result = models.bootstrap_linear_regression(model, data=child_iq)\n",
    "print(models.describe_bootstrap_lr(result))"
   ]
  },
  {
   "cell_type": "markdown",
   "metadata": {},
   "source": [
    "How do we interpret this model? At the mean value of mom_iq (=0) and mom_age (=0), child_iq is at *its* mean. If $\\beta_0$ had been 6.39 then we would say, \"at the mean values of mom_iq and mom_age, we add 6.39 to mean of the child IQ\". This gets are the heart of what we've been saying all along: linear models are about estimating means.\n",
    "\n",
    "One of the strange side effects of mean scaled (and mean centered) models is that you need to calculate and keep all the means around so you know what they are.\n",
    "\n",
    "\n",
    "It might make a bit more sense to *not* scale the target variable:"
   ]
  },
  {
   "cell_type": "code",
   "execution_count": 10,
   "metadata": {},
   "outputs": [
    {
     "name": "stdout",
     "output_type": "stream",
     "text": [
      "Model: child_iq ~ mom_iq_scaled + mom_age_scaled\n",
      "--------------  ---------  -----  -------  -----\n",
      "                                  95% BCI\n",
      "Coefficients               Mean   Lo       Hi\n",
      "                $\\beta_0$  86.80  85.56    88.42\n",
      "mom_iq_scaled   $\\beta_1$  18.11  14.70    21.55\n",
      "mom_age_scaled  $\\beta_2$  2.10   -1.42    5.59\n",
      "\n",
      "Metrics         Mean       Lo     Hi\n",
      "$\\sigma$        18.26      16.86  19.64\n",
      "$R^2$           0.20       0.13   0.29\n",
      "--------------  ---------  -----  -------  -----\n"
     ]
    }
   ],
   "source": [
    "model = \"child_iq ~ mom_iq_scaled + mom_age_scaled\"\n",
    "result = models.bootstrap_linear_regression(model, data=child_iq)\n",
    "print(models.describe_bootstrap_lr(result))"
   ]
  },
  {
   "cell_type": "markdown",
   "metadata": {},
   "source": [
    "This is easier to interpret. When mom_iq and mom_age are at their mean values, the mean child IQ is 86.8. Nice.\n",
    "\n",
    "It's worth noting that this doesn't improve the *performance* of the model, only the interpretability. This is because we're only considering linear transformations of $x_i$. More about *that* later."
   ]
  },
  {
   "cell_type": "markdown",
   "metadata": {},
   "source": [
    "## Natural Baselines\n",
    "\n",
    "Sometimes it's more natural to center the data against a natural baseline instead of the mean. That is, instead of subtracting the data from the mean, we subtract from a baseline. For example, in the case of IQ, there already exists a baseline: the average IQ is defined as an IQ of 100. You might want to define your coefficients in terms of a baseline IQ of 100. Similarly, if 30 MPG were a Federal mandate or goal, you might want to define a regression dealing with gas mileage in terms of 30 MPG by subtracting it from all the values in the data set.\n",
    "\n",
    "Let's see."
   ]
  },
  {
   "cell_type": "code",
   "execution_count": 11,
   "metadata": {},
   "outputs": [],
   "source": [
    "child_iq[\"child_iq100\"] = child_iq.child_iq - 100\n",
    "child_iq[\"mom_iq100\"] = child_iq.mom_iq - 100"
   ]
  },
  {
   "cell_type": "code",
   "execution_count": 12,
   "metadata": {},
   "outputs": [
    {
     "name": "stdout",
     "output_type": "stream",
     "text": [
      "Model: child_iq100 ~ mom_iq100 + mom_age_scaled\n",
      "--------------  ---------  ------  -------  ------\n",
      "                                   95% BCI\n",
      "Coefficients               Mean    Lo       Hi\n",
      "                $\\beta_0$  -13.20  -14.83   -11.35\n",
      "mom_iq100       $\\beta_1$  0.60    0.50     0.72\n",
      "mom_age_scaled  $\\beta_2$  2.10    -0.58    5.93\n",
      "\n",
      "Metrics         Mean       Lo      Hi\n",
      "$\\sigma$        18.26      16.75   19.33\n",
      "$R^2$           0.20       0.14    0.28\n",
      "--------------  ---------  ------  -------  ------\n"
     ]
    }
   ],
   "source": [
    "model = \"child_iq100 ~ mom_iq100 + mom_age_scaled\"\n",
    "result = models.bootstrap_linear_regression(model, data=child_iq)\n",
    "print(models.describe_bootstrap_lr(result))"
   ]
  },
  {
   "cell_type": "markdown",
   "metadata": {},
   "source": [
    "How do we interpret *this* model? If mom_iq is at the baseline (mom_iq = 0) and mom_age is at the mean (mom_age = 0), then child_iq will be 13.20 points *below* the baseline:\n",
    "\n",
    "$100 - 13.20 = 86.8$\n",
    "\n",
    "which is the same number we've gotten before. Again, this just changes the interpretability."
   ]
  },
  {
   "cell_type": "markdown",
   "metadata": {},
   "source": [
    "## Save the Parameters\n",
    "\n",
    "There is one caveat with creating interpretable models using these methods. If you create a regression with transformed variables, the coefficients are now defined in terms of *transformed* variables and you must transform any variables you use the regression equation on. For example, if a new mother came up and wanted us to predict the IQ of her child, we'd need to scale her IQ of, say, 112, with the same mean and standard deviation we used to build the model. Whenever you do any kind of transformation that involves parameters, you should save those parameter values because you will need to use them to make predictions from future data.\n"
   ]
  },
  {
   "cell_type": "markdown",
   "metadata": {},
   "source": [
    "## Transformations of Variables\n",
    "\n",
    "There are other transformations that can be applied to the raw data that don't just improve interpretability: they improve performance. We have already seen the problems we might discover by looking at the residuals of a linear regression. Let's see how we might fix them.\n",
    "\n",
    "Remember our noiseless synthetic data from the Residuals discussion:"
   ]
  },
  {
   "cell_type": "code",
   "execution_count": 13,
   "metadata": {},
   "outputs": [],
   "source": [
    "np.random.seed(6734745)"
   ]
  },
  {
   "cell_type": "markdown",
   "metadata": {},
   "source": [
    "When making the synthetic data, we leave out the intermediate calculation of $x_1^2$ to emphasize that we don't know that it exists."
   ]
  },
  {
   "cell_type": "code",
   "execution_count": 14,
   "metadata": {},
   "outputs": [],
   "source": [
    "x1 = np.array([10*np.random.random() for _ in range( 100)])\n",
    "ys = 1.00 + 2.5 * x1 ** 2 + stats.norm.rvs(0, 30, 100)\n",
    "data = pd.DataFrame({\"y\": ys, \"x1\": x1})"
   ]
  },
  {
   "cell_type": "code",
   "execution_count": 15,
   "metadata": {},
   "outputs": [
    {
     "name": "stdout",
     "output_type": "stream",
     "text": [
      "Model: y ~ x1\n",
      "------------  ---------  ------  -------  ------\n",
      "                                 95% BCI\n",
      "Coefficients             Mean    Lo       Hi\n",
      "              $\\beta_0$  -43.12  -55.88   -31.60\n",
      "x1            $\\beta_1$  26.09   24.16    28.17\n",
      "\n",
      "Metrics       Mean       Lo      Hi\n",
      "$\\sigma$      30.00      24.74   33.72\n",
      "$R^2$         0.88       0.84    0.91\n",
      "------------  ---------  ------  -------  ------\n"
     ]
    }
   ],
   "source": [
    "result = models.bootstrap_linear_regression(\"y ~ x1\", data)\n",
    "print(models.describe_bootstrap_lr(result))"
   ]
  },
  {
   "cell_type": "markdown",
   "metadata": {},
   "source": [
    "The $R^2$ is decent (88%) but the error is high. Let's plot the data:"
   ]
  },
  {
   "cell_type": "code",
   "execution_count": 16,
   "metadata": {},
   "outputs": [
    {
     "data": {
      "image/png": "[encoded data removed]",
      "text/plain": [
       "<Figure size 720x432 with 2 Axes>"
      ]
     },
     "metadata": {},
     "output_type": "display_data"
    }
   ],
   "source": [
    "figure = plt.figure(figsize=(10,6))\n",
    "\n",
    "axes = figure.add_subplot(2, 1, 1)\n",
    "\n",
    "axes.scatter(data.x1, data.y, color=\"dimgray\", alpha=0.5)\n",
    "beta = result[\"coefficients\"]\n",
    "axes.plot(data.x1, [beta[ 0] + beta[ 1] * x for x in data.x1], '-', color=\"firebrick\")\n",
    "axes.set_title(result[ \"formula\"])\n",
    "axes.set_xlim((0, 10))\n",
    "axes.set_xlabel( \"x_1\")\n",
    "\n",
    "axes = figure.add_subplot(2, 1, 2)\n",
    "\n",
    "keyed_values = sorted(zip(data.x1, result[\"residuals\"]), key=lambda x: x[ 0])\n",
    "\n",
    "residuals = [x[ 1][ 0] for x in keyed_values]\n",
    "\n",
    "axes.plot(list(range(0, result[ \"n\"])), residuals, '.', color=\"dimgray\", alpha=0.75)\n",
    "axes.axhline(y=0.0, xmin=0, xmax=result[ \"n\"], c=\"black\", alpha=0.5)\n",
    "axes.set_title( \"x_1 v. residuals\")\n",
    "axes.set_xlabel( \"x_1 sorted\")\n",
    "axes.set_ylim((-60.0, 60.0))\n",
    "\n",
    "plt.show()\n",
    "plt.close()"
   ]
  },
  {
   "cell_type": "markdown",
   "metadata": {},
   "source": [
    "There's definitely a \"bend\" to the residuals which indicates that we're over underestimating at low and high values of $x_1$ and overestimating at medium values of $x_1$. This suggests that a transformation is in order...*which* transformation comes from experience of looking at residuals and at histograms of features.\n",
    "\n",
    "Since we know what the right answer is, let's see what happens when we create a new feature $x_2 = x_1^2$ and use it in our model:"
   ]
  },
  {
   "cell_type": "code",
   "execution_count": 17,
   "metadata": {},
   "outputs": [],
   "source": [
    "data[\"x2\"] = data.x1 ** 2"
   ]
  },
  {
   "cell_type": "code",
   "execution_count": 18,
   "metadata": {},
   "outputs": [
    {
     "name": "stdout",
     "output_type": "stream",
     "text": [
      "Model: y ~ x2\n",
      "------------  ---------  -----  -------  ----\n",
      "                                95% BCI\n",
      "Coefficients             Mean   Lo       Hi\n",
      "              $\\beta_0$  1.41   -5.25    8.81\n",
      "x2            $\\beta_1$  2.46   2.29     2.62\n",
      "\n",
      "Metrics       Mean       Lo     Hi\n",
      "$\\sigma$      26.30      22.62  29.80\n",
      "$R^2$         0.91       0.87   0.94\n",
      "------------  ---------  -----  -------  ----\n"
     ]
    }
   ],
   "source": [
    "result = models.bootstrap_linear_regression(\"y ~ x2\", data)\n",
    "print(models.describe_bootstrap_lr(result))"
   ]
  },
  {
   "cell_type": "markdown",
   "metadata": {},
   "source": [
    "This model is much better. The error is smaller, the $R^2$ is larger, and the $\\beta_1$ coefficient is almost the \"true\" value. Let's plot the data and residuals:"
   ]
  },
  {
   "cell_type": "code",
   "execution_count": 19,
   "metadata": {},
   "outputs": [
    {
     "data": {
      "image/png": "[encoded data removed]",
      "text/plain": [
       "<Figure size 720x432 with 2 Axes>"
      ]
     },
     "metadata": {},
     "output_type": "display_data"
    }
   ],
   "source": [
    "figure = plt.figure(figsize=(10,6))\n",
    "\n",
    "axes = figure.add_subplot(2, 1, 1)\n",
    "\n",
    "axes.scatter(data.x2, data.y, color=\"dimgray\", alpha=0.5)\n",
    "beta = result[\"coefficients\"]\n",
    "axes.plot(data.x2, [beta[ 0] + beta[ 1] * x for x in data.x2], '-', color=\"firebrick\")\n",
    "axes.set_title(result[ \"formula\"])\n",
    "axes.set_xlim((0, 10))\n",
    "\n",
    "axes = figure.add_subplot(2, 1, 2)\n",
    "\n",
    "keyed_values = sorted(zip(data.x2, result[\"residuals\"]), key=lambda x: x[ 0])\n",
    "\n",
    "residuals = [x[ 1][ 0] for x in keyed_values]\n",
    "\n",
    "axes.plot(list(range(0, result[ \"n\"])), residuals, '.', color=\"dimgray\", alpha=0.75)\n",
    "axes.axhline(y=0.0, xmin=0, xmax=result[ \"n\"], c=\"black\", alpha=0.5)\n",
    "axes.set_title( \"x_2 v. residuals\")\n",
    "axes.set_xlabel( \"x_2 sorted\")\n",
    "axes.set_ylim((-60.0, 60.0))\n",
    "\n",
    "plt.show()\n",
    "plt.close()"
   ]
  },
  {
   "cell_type": "markdown",
   "metadata": {},
   "source": [
    "Perhaps the most surprising thing here is that the model is still linear. \"Linear\" doesn't mean that you can't have higher degree polynomials:\n",
    "\n",
    "$y = \\beta_0 + \\beta_1 x_1^2 + \\beta_2 log(x_2) + \\beta_3 \\sqrt{x_3} + \\epsilon$\n",
    "\n",
    "It means you can't have:\n",
    "\n",
    "$y = \\beta_0 + \\beta_1^{x_1}$\n",
    "\n",
    "And even the last one isn't completely impossible as we will see. To drive the point home, let's show the model in $y-x_1$-space:"
   ]
  },
  {
   "cell_type": "code",
   "execution_count": 20,
   "metadata": {},
   "outputs": [
    {
     "data": {
      "image/png": "[encoded data removed]",
      "text/plain": [
       "<Figure size 720x432 with 1 Axes>"
      ]
     },
     "metadata": {},
     "output_type": "display_data"
    }
   ],
   "source": [
    "figure = plt.figure(figsize=(10,6))\n",
    "\n",
    "axes = figure.add_subplot(1, 1, 1)\n",
    "\n",
    "axes.scatter(data.x1, data.y, color=\"dimgray\", alpha=0.5)\n",
    "beta = result[\"coefficients\"]\n",
    "\n",
    "data.sort_values(\"x1\", inplace=True)\n",
    "\n",
    "axes.plot(data.x1, [beta[ 0] + beta[ 1] * x for x in data.x2], '-', color=\"firebrick\")\n",
    "axes.set_title(result[ \"formula\"])\n",
    "axes.set_xlim((0, 10))\n",
    "axes.set_xlabel( \"x_1\")\n",
    "\n",
    "plt.show()\n",
    "plt.close()"
   ]
  },
  {
   "cell_type": "markdown",
   "metadata": {},
   "source": [
    "The challenge will be determining what transformation to use. There are really a fairly limited number and they tend to be related to the mathematical distribution of the data or the process under consideration. Think about what it might mean that the effect is on the *square* of the variable, say, age. Similarly, because earnings or income are often exponentially distributed, it is common to use the square-root, reciprocal, or log of earnings instead of raw earnings. The kind of transformation you try may tie back to your EDA of the variables.\n",
    "\n",
    "Below is a table of the $x$ and $y$ on a linear effect, $\\beta=2$, multiplied by either $x^2$ or $x^{1/2}$:\n",
    "\n",
    "| $x$ | $x^2$ | $y$ | $x^{1/2}$ | $y$ |\n",
    "|-----|-------|-----|-----------|-----|\n",
    "| 0 | 0 | 0 | 0 | 0 |\n",
    "| 1 | 1 | 2 | 1 | 2 |\n",
    "| 2 | 4 | 8 | 1.4 | 2.8 |\n",
    "| 3 | 9 | 18 | 1.7 | 3.4 |\n",
    "\n",
    "This demonstrates how we can have non-linear effects in $x$ that are really linear in some transformation of $x$. The problem is identifying the transformation of $x$ to use in your model.\n",
    "\n",
    "In the case of $x^2$, we can see that an increase of $x$ from 0 to 1, leads to a $y$ of 2. However, if we increase $x$ from 1 to 2, the effect on $y$ is to increase to 8 which is substantial more than 2 (6 to be exact). In $x$, this is \"increasing returns\". If we increase $x$ from 2 to 3, the effect on $y$ is to increase to $18$...by 10. This is a non-linear effect in $x$ and $y$ but linear in $x^2$. In order to model it, we square $x$.\n",
    "\n",
    "We can see the opposite in the case of $x^{1/2}$. As $x$ increases from 0 to 1, the increase in $y$ is 2 but when we increase $x$ from 1 to 2, $y$ goes from 2 to 2.8...an increase of only 0.8. In $x$, this is \"decreasing returns\". Similarly, when $x$ increases from 2 to 3, there's an increase in $y$ to 3.4 which is an increase of only 0.6. In order to model it, we take the square root of $x$."
   ]
  },
  {
   "cell_type": "markdown",
   "metadata": {},
   "source": [
    "## Numerical to Categorical\n",
    "\n",
    "When it comes to transformations between numeric and categorical variables, the suggested practice is to deal with numeric variables if possible because you can extract more information from them. This is often at the level of measurement though (when you are recording data) rather than at the point of data transformation. For example, it is more informative and your model may be better if you measure handedness on a scale from 0 to 10 rather than as a binary \"left or right\". It is usually better to model something as percent correct/successful/voted than pass/fail.\n",
    "\n",
    "However, there are times when only a categorical variable (or factor) will do. If you coded the US States and the District of Columbia as an integer from 1 to 51, what would a coefficient for this variable even mean? And even if you have a continuous variable sometimes a discretization permits you to model non-linearities.\n",
    "\n",
    "One exception is that you may need to discretize a variable in order to handle some non-linearities. For example, imagine something depends in a non-linear way on `age`: younger and older people are \"for\" something ($\\beta_{age} > 0$) but middle aged people are against it ($\\beta_{age} < 0$). \n",
    "\n",
    "If you used numeric `age` in your model, you would get a single value for the coefficient...perhaps even something near zero. If you used categorical age variables (a dummy for each category), you could get a positive coefficient on `age19-29`, a negative one on `age29-49` and a positive one on `age49+`."
   ]
  },
  {
   "cell_type": "markdown",
   "metadata": {},
   "source": [
    "## Interaction Terms\n",
    "\n",
    "We have already mentioned the possibility of including interaction terms in models. When you do you include them? The usual answer is domain knowledge. Sometimes interaction terms fall naturally out of the problem such as when you have height, width, and length. The interaction of these terms is volume.\n",
    "\n",
    "Otherwise, you can identify variables with \"large\" effects and then include interaction terms. Although domain theory may indicate that terms with smaller effects interact with each other, it's unlikely that you'll be able to model it. An interaction effect can't be stronger than the main effect. Although it *might* make sense to model only the interaction effect.\n",
    "\n",
    "Categorical variables are also a source of interaction terms but you need to be aware of the underlying support for the interaction. If you don't have enough observations of that particular--more specific--case, the estimate of the coefficient will probably not be any \"good\"."
   ]
  },
  {
   "cell_type": "markdown",
   "metadata": {},
   "source": [
    "## Linear Models of Non-Linear Data\n",
    "\n",
    "Linear models also imply a additivity/linearity assumption has been violated. In these cases, we can often perform a transformation that results in data that satisfies the assumptions. Taking logarithms generally permit you to model non-linear relationships. \n",
    "\n",
    "Consider the following:\n",
    "\n",
    "$log( y) = \\beta_0 + \\beta_1 x_1 + \\dots + \\beta_n x_n$\n",
    "\n",
    "if you exponentiate this equation you get:\n",
    "\n",
    "$y = e^{\\beta_0 + \\beta_1 x_1 + \\dots + \\beta_n x_n}$\n",
    "\n",
    "$y = B_0 + B_1^{X_1} + ... B_n^{X_n}$\n",
    "\n",
    "where $B_0 = e^{\\beta_0}$. In this case, each $B_i$ can be interpreted (if you use natural log) as the percent difference in $log( y)$ between groups that differ by one unit of $x_i$.\n",
    "\n",
    "If you start the other way:\n",
    "\n",
    "$y = \\beta_1^{x_1} \\times \\dots \\times \\beta_n^{x_n}$\n",
    "\n",
    "then taking the log of both sides yields:\n",
    "\n",
    "$log( y) = log( x_0) + \\beta_1 log( x_1) + \\dots + \\beta_n log( x_n)$.\n",
    "\n",
    "In this case, the various $\\beta_i$ are interpretable as *elasticities* or the percent change in y that results from a 1% change in $x_i$.\n"
   ]
  },
  {
   "cell_type": "markdown",
   "metadata": {},
   "source": [
    "## Building Linear Models\n",
    "\n",
    "Where does this all leave us? What are the steps to building a linear model?\n",
    "\n",
    "1. Start with all features as suggested by domain knowledge, but...\n",
    "2. Analyze features for correlations and, of those groups, consider picking the best variable, an average of the variables, or some other transformation (sum, min, max, etc).\n",
    "3. Transform all categorical variables into one hot encodings but leave one encoding out of the model for each variable. The intercept $\\beta_0$ represent all the outcomes that are excluded explicitly. Which one you leave out might depend on the number of observations for each and what you want to do with the model.\n",
    "4. Examine the residuals and EDA of the features and refer back to domain knowledge to see if any transformations are warranted including converting numerical variables into discrete, categorical variables.\n",
    "\n"
   ]
  },
  {
   "cell_type": "markdown",
   "metadata": {},
   "source": [
    "## Step-wise Regression and Data Dredging\n",
    "\n",
    "As we already mentioned, finding the best subset of features out of a set of variables is NP-hard. Nevertheless, there are heuristics for so-called \"Step-wise Regression\". To a certain extent, we have been describing a heuristic driven form of manual Step-wise regression that starts with a \"all variables in\" initial model and then seeks to improve the model by\n",
    "\n",
    "Step-wise regression is generally frowned up the statistical *cognoscenti* and is associated with \"data dredging\" and \"p-value hacking\". The concerns are these:\n",
    "\n",
    "1. You have collected a bunch of data from an experiment. Your *theory* should tell you the specification for your model. If that model doesn't work, you shouldn't try to tweak it, looking for *some* relationship that fits your theory.\n",
    "2. As you iterate over models, you are constantly doing statistical significance testing. It's not clear what any of the statistical significance tests for your final model really mean.\n",
    "\n",
    "We've dodged the last point by using Bayesian inference. We don't have a \"multiple comparisons\" problem. The evidence supports what the evidence supports to the degree it supports it, based on your prior. As long as you don't go hog wild and use domain knowledge as a guide, you should be alright within the standards of commerce if not science.\n",
    "\n",
    "And that's really germane to the first point. This is data science but it's not really science *per se*. We're not trying to build and validate a large body of knowledge. We want to know what our customer life time value is. This goes to the Blomberg and Gelman discussion.\n",
    "\n",
    "It's up to you to not mislead yourself or organization by making tenuous connections in your data, leading to the loss of revenue at best and lives at worst. It behooves all of us to use the tools wisely or someone will take them away from us."
   ]
  },
  {
   "cell_type": "markdown",
   "metadata": {},
   "source": [
    "## Assumptions of the Linear Model\n",
    "\n",
    "We've talked about the assumptions of the linear model but let's bring them all into one place. Classical linear regression has a number of assumptions. We follow Gelman's advice and list them in their order of importance:\n",
    "\n",
    "1. Validity\n",
    "2. Additivity and Linearity\n",
    "3. Independence of errors\n",
    "4. Equal variance of errors\n",
    "5. Normality of errors\n",
    "\n",
    "*Validity* is the most important factor. Reasonably, it is the most important factor in any model building. Since it is possible to find spurious correlations between any number of variables so each variable should have some reason for being included in the model.\n",
    "\n",
    "Validity is slightly broader than this, however. It also means that if we want to apply our model to underprivileged youths, the original model should not be constructed from data for all youths. Similarly, if we want to apply a model of health and fitness to the general population, it should probably not be built upon data from patients at risk for heart disease.\n",
    "\n",
    "*Additivity* is important because, well, we are using an additive model. The same is true of *linearity*. But we can apply transformations to get us back into compliance.\n",
    "\n",
    "*Independence of errors* assumes that errors in prediction are not correlated. We have mentioned this before, what we are saying is that our data should be either independently and identically distributed or, a slightly weaker condition, they are exchangeable. It's easy to think how this might be violated in our child IQ problem: what if more than one child from the same mother is included? \n",
    "\n",
    "*Equal variance of errors* (residuals) is the assumption that the variance, $\\epsilon_i \\sim N(0, \\sigma)$, is the same for all i. The technical term for this is *homoskedacity*. The opposite (and undesirable) condition is *heteroskedacity*. We saw this in the Residuals section. Gelman dismisses this as not a very big problem because it does not affect the estimation of $\\beta$.\n",
    "\n",
    "*Normality of errors* (residuals) is something that people often wring their hands about and Gelman says this is the least important. While it might affect our ability to predict (and here it might actually be important to someone), it doesn't affect our ability to form a model, to discover the effects that are $\\beta$.\n",
    "\n",
    "What does a failure of normality mean? It means ability to calculate error bounds is compromised but we have the Bootstrap to estimate credible intervals for any estimate we want to make."
   ]
  }
 ],
 "metadata": {
  "kernelspec": {
   "display_name": "Python (en685648)",
   "language": "python",
   "name": "en685648"
  },
  "language_info": {
   "codemirror_mode": {
    "name": "ipython",
    "version": 3
   },
   "file_extension": ".py",
   "mimetype": "text/x-python",
   "name": "python",
   "nbconvert_exporter": "python",
   "pygments_lexer": "ipython3",
   "version": "3.7.1"
  },
  "toc": {
   "colors": {
    "hover_highlight": "#DAA520",
    "navigate_num": "#000000",
    "navigate_text": "#333333",
    "running_highlight": "#FF0000",
    "selected_highlight": "#FFD700",
    "sidebar_border": "#EEEEEE",
    "wrapper_background": "#FFFFFF"
   },
   "moveMenuLeft": true,
   "nav_menu": {
    "height": "225px",
    "width": "252px"
   },
   "navigate_menu": true,
   "number_sections": true,
   "sideBar": true,
   "threshold": 4,
   "toc_cell": false,
   "toc_section_display": "block",
   "toc_window_display": false,
   "widenNotebook": false
  }
 },
 "nbformat": 4,
 "nbformat_minor": 2
}
