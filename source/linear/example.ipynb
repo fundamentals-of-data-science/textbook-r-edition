{
 "cells": [
  {
   "cell_type": "code",
   "execution_count": 1,
   "metadata": {},
   "outputs": [],
   "source": [
    "import warnings\n",
    "warnings.filterwarnings('ignore')"
   ]
  },
  {
   "cell_type": "code",
   "execution_count": 2,
   "metadata": {},
   "outputs": [],
   "source": [
    "%matplotlib inline"
   ]
  },
  {
   "cell_type": "code",
   "execution_count": 3,
   "metadata": {},
   "outputs": [],
   "source": [
    "import numpy as np\n",
    "import scipy.stats as stats\n",
    "import seaborn as sns\n",
    "import matplotlib.pyplot as plt\n",
    "import pandas as pd\n",
    "import random\n",
    "import patsy\n",
    "import sklearn.linear_model as linear\n",
    "\n",
    "sns.set(style=\"whitegrid\")\n",
    "\n",
    "import sys\n",
    "sys.path.append('resources')\n",
    "import models"
   ]
  },
  {
   "cell_type": "markdown",
   "metadata": {},
   "source": [
    "# Example\n",
    "\n",
    "This extended example looks at [Mesquite](https://en.wikipedia.org/wiki/Mesquite) yields of leaves. It is basically a problem in biology/horticulture/agriculture."
   ]
  },
  {
   "cell_type": "code",
   "execution_count": 4,
   "metadata": {},
   "outputs": [],
   "source": [
    "mesquite = pd.read_csv( \"resources/mesquite.tsv\", sep=\"\\t\")"
   ]
  },
  {
   "cell_type": "markdown",
   "metadata": {},
   "source": [
    "We don't have *specific* domain knowledge about this problem but we do have *general* domain knowledge. We'll see how that comes into play later in the example. For now, we know that we *should* have done EDA on this data long before we got to this point. In the interests of brevity, we will simply look at the contents of the data and the first rows:"
   ]
  },
  {
   "cell_type": "code",
   "execution_count": 5,
   "metadata": {},
   "outputs": [
    {
     "name": "stdout",
     "output_type": "stream",
     "text": [
      "<class 'pandas.core.frame.DataFrame'>\n",
      "RangeIndex: 46 entries, 0 to 45\n",
      "Data columns (total 8 columns):\n",
      "obs              46 non-null int64\n",
      "group            46 non-null object\n",
      "diam1            46 non-null float64\n",
      "diam2            46 non-null float64\n",
      "total_height     46 non-null float64\n",
      "canopy_height    46 non-null float64\n",
      "density          46 non-null int64\n",
      "weight           46 non-null float64\n",
      "dtypes: float64(5), int64(2), object(1)\n",
      "memory usage: 3.0+ KB\n"
     ]
    }
   ],
   "source": [
    "mesquite.info()"
   ]
  },
  {
   "cell_type": "markdown",
   "metadata": {},
   "source": [
    "This is not a lot of data, really. There are only 46 observations."
   ]
  },
  {
   "cell_type": "code",
   "execution_count": 6,
   "metadata": {},
   "outputs": [
    {
     "data": {
      "text/html": [
       "<div>\n",
       "<style scoped>\n",
       "    .dataframe tbody tr th:only-of-type {\n",
       "        vertical-align: middle;\n",
       "    }\n",
       "\n",
       "    .dataframe tbody tr th {\n",
       "        vertical-align: top;\n",
       "    }\n",
       "\n",
       "    .dataframe thead th {\n",
       "        text-align: right;\n",
       "    }\n",
       "</style>\n",
       "<table border=\"1\" class=\"dataframe\">\n",
       "  <thead>\n",
       "    <tr style=\"text-align: right;\">\n",
       "      <th></th>\n",
       "      <th>obs</th>\n",
       "      <th>group</th>\n",
       "      <th>diam1</th>\n",
       "      <th>diam2</th>\n",
       "      <th>total_height</th>\n",
       "      <th>canopy_height</th>\n",
       "      <th>density</th>\n",
       "      <th>weight</th>\n",
       "    </tr>\n",
       "  </thead>\n",
       "  <tbody>\n",
       "    <tr>\n",
       "      <th>0</th>\n",
       "      <td>1</td>\n",
       "      <td>MCD</td>\n",
       "      <td>1.8</td>\n",
       "      <td>1.15</td>\n",
       "      <td>1.30</td>\n",
       "      <td>1.00</td>\n",
       "      <td>1</td>\n",
       "      <td>401.3</td>\n",
       "    </tr>\n",
       "    <tr>\n",
       "      <th>1</th>\n",
       "      <td>2</td>\n",
       "      <td>MCD</td>\n",
       "      <td>1.7</td>\n",
       "      <td>1.35</td>\n",
       "      <td>1.35</td>\n",
       "      <td>1.33</td>\n",
       "      <td>1</td>\n",
       "      <td>513.7</td>\n",
       "    </tr>\n",
       "    <tr>\n",
       "      <th>2</th>\n",
       "      <td>3</td>\n",
       "      <td>MCD</td>\n",
       "      <td>2.8</td>\n",
       "      <td>2.55</td>\n",
       "      <td>2.16</td>\n",
       "      <td>0.60</td>\n",
       "      <td>1</td>\n",
       "      <td>1179.2</td>\n",
       "    </tr>\n",
       "    <tr>\n",
       "      <th>3</th>\n",
       "      <td>4</td>\n",
       "      <td>MCD</td>\n",
       "      <td>1.3</td>\n",
       "      <td>0.85</td>\n",
       "      <td>1.80</td>\n",
       "      <td>1.20</td>\n",
       "      <td>1</td>\n",
       "      <td>308.0</td>\n",
       "    </tr>\n",
       "    <tr>\n",
       "      <th>4</th>\n",
       "      <td>5</td>\n",
       "      <td>MCD</td>\n",
       "      <td>3.3</td>\n",
       "      <td>1.90</td>\n",
       "      <td>1.55</td>\n",
       "      <td>1.05</td>\n",
       "      <td>1</td>\n",
       "      <td>855.2</td>\n",
       "    </tr>\n",
       "  </tbody>\n",
       "</table>\n",
       "</div>"
      ],
      "text/plain": [
       "   obs group  diam1  diam2  total_height  canopy_height  density  weight\n",
       "0    1   MCD    1.8   1.15          1.30           1.00        1   401.3\n",
       "1    2   MCD    1.7   1.35          1.35           1.33        1   513.7\n",
       "2    3   MCD    2.8   2.55          2.16           0.60        1  1179.2\n",
       "3    4   MCD    1.3   0.85          1.80           1.20        1   308.0\n",
       "4    5   MCD    3.3   1.90          1.55           1.05        1   855.2"
      ]
     },
     "execution_count": 6,
     "metadata": {},
     "output_type": "execute_result"
    }
   ],
   "source": [
    "mesquite.head()"
   ]
  },
  {
   "cell_type": "markdown",
   "metadata": {},
   "source": [
    "We have several variables. The observation number (which is just an index and not a feature), the group, \"diam1\" and \"diam2\" (ostensibly to avoid trying to figure out which one was width and which was length), total_height of the tree, canopy_height, density, and the weight of the leaves. The weight is our target variable. Density is interesting. Let's see a bit more about it:"
   ]
  },
  {
   "cell_type": "code",
   "execution_count": 7,
   "metadata": {},
   "outputs": [
    {
     "data": {
      "text/plain": [
       "count    46.000000\n",
       "mean      1.673913\n",
       "std       1.592403\n",
       "min       1.000000\n",
       "25%       1.000000\n",
       "50%       1.000000\n",
       "75%       2.000000\n",
       "max       9.000000\n",
       "Name: density, dtype: float64"
      ]
     },
     "execution_count": 7,
     "metadata": {},
     "output_type": "execute_result"
    }
   ],
   "source": [
    "mesquite.density.describe()"
   ]
  },
  {
   "cell_type": "markdown",
   "metadata": {},
   "source": [
    "The most common value is 1 (by quite a long shot). It might be better to look at this as a discrete variable with a limited domain:"
   ]
  },
  {
   "cell_type": "code",
   "execution_count": 8,
   "metadata": {},
   "outputs": [
    {
     "data": {
      "text/plain": [
       "1    0.717391\n",
       "2    0.152174\n",
       "3    0.065217\n",
       "9    0.021739\n",
       "7    0.021739\n",
       "5    0.021739\n",
       "Name: density, dtype: float64"
      ]
     },
     "execution_count": 8,
     "metadata": {},
     "output_type": "execute_result"
    }
   ],
   "source": [
    "mesquite.density.value_counts(normalize=True)"
   ]
  },
  {
   "cell_type": "markdown",
   "metadata": {},
   "source": [
    "71.7% of the observations of a density of 1 followed by 15.2% with a density of 2."
   ]
  },
  {
   "cell_type": "markdown",
   "metadata": {},
   "source": [
    " Let's look at group as well:"
   ]
  },
  {
   "cell_type": "code",
   "execution_count": 9,
   "metadata": {},
   "outputs": [
    {
     "data": {
      "text/plain": [
       "MCD    0.565217\n",
       "ALS    0.434783\n",
       "Name: group, dtype: float64"
      ]
     },
     "execution_count": 9,
     "metadata": {},
     "output_type": "execute_result"
    }
   ],
   "source": [
    "mesquite.group.value_counts(normalize=True)"
   ]
  },
  {
   "cell_type": "markdown",
   "metadata": {},
   "source": [
    "One of the libraries automatically converts the categorical variable into an encoding but we won't know which one is which so we should do it ourselves. Following our advice, we name the variable \"mcd\" for group=mcd or mcd=1 in which case als will be 0."
   ]
  },
  {
   "cell_type": "code",
   "execution_count": 10,
   "metadata": {},
   "outputs": [
    {
     "data": {
      "text/plain": [
       "1    0.565217\n",
       "0    0.434783\n",
       "Name: mcd, dtype: float64"
      ]
     },
     "execution_count": 10,
     "metadata": {},
     "output_type": "execute_result"
    }
   ],
   "source": [
    "mesquite[\"mcd\"] = mesquite.group.apply(lambda x: 1 if x == 'MCD' else 0)\n",
    "mesquite.mcd.value_counts(normalize=True)"
   ]
  },
  {
   "cell_type": "markdown",
   "metadata": {},
   "source": [
    "It's always good to make sure your transformations did what you expected. In any case, the two groups are almost exactly 50/50."
   ]
  },
  {
   "cell_type": "markdown",
   "metadata": {},
   "source": [
    "What do we think about the variables and their contributions to weight (of leaves)?\n",
    "\n",
    "* **mcd** - we don't know what the groups are so it could be positive or negative.\n",
    "* **diam1** - positive: more diameter is more leaves.\n",
    "* **diam2** - positive: more diameter is more leaves.\n",
    "* **total_height** - ??: a tall tree may just be tall with the canopy just higher off the ground.\n",
    "* **canopy_height** - positive: more canopy, more leaves.\n",
    "* **density** - positive: more leaves per unit, more leaves.\n",
    "\n",
    "Let's fit a \"all variables in\" model:"
   ]
  },
  {
   "cell_type": "code",
   "execution_count": 11,
   "metadata": {},
   "outputs": [
    {
     "name": "stdout",
     "output_type": "stream",
     "text": [
      "Model: weight ~ mcd + diam1 + diam2 + total_height + canopy_height + density\n",
      "-------------  ---------  --------  --------  -------\n",
      "                                    95% BCI\n",
      "Coefficients              Mean      Lo        Hi\n",
      "               $\\beta_0$  -1091.89  -1614.68  -524.47\n",
      "mcd            $\\beta_1$  363.30    175.13    597.17\n",
      "diam1          $\\beta_2$  189.67    9.49      382.64\n",
      "diam2          $\\beta_3$  371.46    137.39    546.60\n",
      "total_height   $\\beta_4$  -101.73   -706.76   220.11\n",
      "canopy_height  $\\beta_5$  355.67    -61.22    1314.72\n",
      "density        $\\beta_6$  131.25    -18.98    300.57\n",
      "\n",
      "Metrics        Mean       Lo        Hi\n",
      "$\\sigma$       268.96     93.37     307.93\n",
      "$R^2$          0.85       0.78      0.95\n",
      "-------------  ---------  --------  --------  -------\n"
     ]
    }
   ],
   "source": [
    "model =  \"weight ~ mcd + diam1 + diam2 + total_height + canopy_height + density\"\n",
    "result = models.bootstrap_linear_regression(model, data=mesquite)\n",
    "print(models.describe_bootstrap_lr(result))"
   ]
  },
  {
   "cell_type": "markdown",
   "metadata": {},
   "source": [
    "The $R^2$ is 85% which makes this a fairly good model in terms of explanation. We explain 85% of the variability in weight. We don't know the range of weight so we don't know if the $\\sigma$ is any good. We would have normally found this out through EDA but let's look now:"
   ]
  },
  {
   "cell_type": "code",
   "execution_count": 12,
   "metadata": {},
   "outputs": [
    {
     "data": {
      "text/plain": [
       "count      46.00000\n",
       "mean      559.66087\n",
       "std       642.83481\n",
       "min        60.20000\n",
       "25%       219.62500\n",
       "50%       361.85000\n",
       "75%       688.72500\n",
       "max      4052.00000\n",
       "Name: weight, dtype: float64"
      ]
     },
     "execution_count": 12,
     "metadata": {},
     "output_type": "execute_result"
    }
   ],
   "source": [
    "mesquite.weight.describe()"
   ]
  },
  {
   "cell_type": "markdown",
   "metadata": {},
   "source": [
    "We cut the error of our estimates from 642.8 to 268.96 with our model which is a pretty good increase in accuracy. Still, based on the actual application, it might not be enough. We might be interested in a good prediction of leaf weight or we might be interested in better explanatory for the model.\n",
    "\n",
    "The coefficients are all over the place. Only diam2 is clearly positive. For the others, we have:"
   ]
  },
  {
   "cell_type": "code",
   "execution_count": 13,
   "metadata": {},
   "outputs": [
    {
     "name": "stdout",
     "output_type": "stream",
     "text": [
      "mcd P(>0)=1.000 (strong)\n",
      "diam1 P(>0)=0.990 (strong)\n",
      "diam2 P(>0)=0.990 (strong)\n",
      "total_height P(>0)=0.370 (mixed)\n",
      "canopy_height P(>0)=0.920 (strong)\n",
      "density P(>0)=0.950 (strong)\n"
     ]
    }
   ],
   "source": [
    "predictions = {\"mcd\": \"+\", \"diam1\": \"+\", \"diam2\": \"+\", \"total_height\": \"+\", \"canopy_height\": \"+\", \"density\": \"+\"}\n",
    "models.evaluate_coefficient_predictions(predictions, result)"
   ]
  },
  {
   "cell_type": "markdown",
   "metadata": {},
   "source": [
    "First, all of the coefficients have the expected signs except total_height. We didn't even know what to expect with total_height. Second, many of the coefficients pass the bounds test except density. However, if we look at the posterior probabilities for all the coefficients, the evidence is strongly in favor of the observed signs. The only mixed result is for total_height.\n",
    "\n",
    "Still, it seems like we have ample chances for problems here including multicollinearity. Trees don't just grow wide, staying 1 foot think (at least not usually). And total_height and canopy_height are surely correlated. Let's check a few of these:"
   ]
  },
  {
   "cell_type": "code",
   "execution_count": 14,
   "metadata": {},
   "outputs": [
    {
     "name": "stdout",
     "output_type": "stream",
     "text": [
      "diam1 v diam2 = 0.89\n",
      "total_height v canopy_height = 0.84\n"
     ]
    }
   ],
   "source": [
    "print(\"diam1 v diam2 = {0:.2f}\".format(stats.pearsonr(mesquite.diam1, mesquite.diam2)[0]))\n",
    "print(\"total_height v canopy_height = {0:.2f}\".format(stats.pearsonr(mesquite.total_height, mesquite.canopy_height)[0]))"
   ]
  },
  {
   "cell_type": "markdown",
   "metadata": {},
   "source": [
    "Lot's of correlation on both accounts. We know that that will mess with our $\\beta_i$ estimates. What about the residuals?"
   ]
  },
  {
   "cell_type": "code",
   "execution_count": 15,
   "metadata": {},
   "outputs": [
    {
     "data": {
      "image/png": "[encoded data removed]",
      "text/plain": [
       "<Figure size 1440x432 with 5 Axes>"
      ]
     },
     "metadata": {},
     "output_type": "display_data"
    }
   ],
   "source": [
    "figure = plt.figure(figsize=(20,6))\n",
    "\n",
    "variables = [\"diam1\", \"diam2\", \"total_height\", \"canopy_height\", \"density\"]\n",
    "\n",
    "plots = len( variables)\n",
    "rows = (plots // 3) + 1\n",
    "\n",
    "for i, variable in enumerate( variables):\n",
    "    axes = figure.add_subplot(rows, 3, i + 1)\n",
    "\n",
    "    keyed_values = sorted( zip( mesquite[ variable].values, result[ \"residuals\"]), key=lambda x: x[ 0])\n",
    "    residuals = [x[ 1][ 0] for x in keyed_values]\n",
    "    \n",
    "    axes.plot(list(range(0, result[ \"n\"])), residuals, '.', color=\"dimgray\", alpha=0.75)\n",
    "    axes.axhline(y=0.0, xmin=0, xmax=result[ \"n\"], c=\"firebrick\", alpha=0.5)\n",
    "    axes.set_title( variable + \" v. residuals\")\n",
    "\n",
    "plt.show()\n",
    "plt.close()"
   ]
  },
  {
   "cell_type": "markdown",
   "metadata": {},
   "source": [
    "We have two problems evident in all the residual plots. First, there's a pattern to the residuals. At low values, the errors are smaller and as the variable increases, the errors get larger. Second, we seem to be underestimating at low values for all the variables ($y - \\hat{y} > 0$) and overestimating at high values ($y - \\hat{y} < 0$).\n",
    "\n",
    "This is where our *general* domain knowledge comes in. Is there really an *additive* relationship between diam(s), height, and weight? Aren't we really talking about *volume*? And if are talking about volume, isn't that a multiplicative model?\n",
    "\n",
    "$y = diam1 \\times diam2 \\times canopy\\_height$\n",
    "\n",
    "We know from the transformation section that if we have a multiplicative model, we can transform it into an additive model by taking logs of all the variables:"
   ]
  },
  {
   "cell_type": "code",
   "execution_count": 16,
   "metadata": {},
   "outputs": [],
   "source": [
    "def log( x):\n",
    "    return np.log(float( x))\n",
    "\n",
    "for column in [\"diam1\", \"diam2\", \"total_height\", \"canopy_height\", \"weight\", \"density\"]:\n",
    "    mesquite[ \"log_\" + column] = mesquite[ column].apply( log)"
   ]
  },
  {
   "cell_type": "code",
   "execution_count": 17,
   "metadata": {},
   "outputs": [
    {
     "data": {
      "text/html": [
       "<div>\n",
       "<style scoped>\n",
       "    .dataframe tbody tr th:only-of-type {\n",
       "        vertical-align: middle;\n",
       "    }\n",
       "\n",
       "    .dataframe tbody tr th {\n",
       "        vertical-align: top;\n",
       "    }\n",
       "\n",
       "    .dataframe thead th {\n",
       "        text-align: right;\n",
       "    }\n",
       "</style>\n",
       "<table border=\"1\" class=\"dataframe\">\n",
       "  <thead>\n",
       "    <tr style=\"text-align: right;\">\n",
       "      <th></th>\n",
       "      <th>log_diam1</th>\n",
       "      <th>log_diam2</th>\n",
       "      <th>log_total_height</th>\n",
       "      <th>log_canopy_height</th>\n",
       "      <th>log_weight</th>\n",
       "      <th>log_density</th>\n",
       "    </tr>\n",
       "  </thead>\n",
       "  <tbody>\n",
       "    <tr>\n",
       "      <th>count</th>\n",
       "      <td>46.000000</td>\n",
       "      <td>46.000000</td>\n",
       "      <td>46.000000</td>\n",
       "      <td>46.000000</td>\n",
       "      <td>46.000000</td>\n",
       "      <td>46.000000</td>\n",
       "    </tr>\n",
       "    <tr>\n",
       "      <th>mean</th>\n",
       "      <td>0.664373</td>\n",
       "      <td>0.325520</td>\n",
       "      <td>0.340767</td>\n",
       "      <td>0.048187</td>\n",
       "      <td>5.919543</td>\n",
       "      <td>0.302183</td>\n",
       "    </tr>\n",
       "    <tr>\n",
       "      <th>std</th>\n",
       "      <td>0.393820</td>\n",
       "      <td>0.523814</td>\n",
       "      <td>0.337371</td>\n",
       "      <td>0.344195</td>\n",
       "      <td>0.913676</td>\n",
       "      <td>0.557538</td>\n",
       "    </tr>\n",
       "    <tr>\n",
       "      <th>min</th>\n",
       "      <td>-0.223144</td>\n",
       "      <td>-0.916291</td>\n",
       "      <td>-0.430783</td>\n",
       "      <td>-0.693147</td>\n",
       "      <td>4.097672</td>\n",
       "      <td>0.000000</td>\n",
       "    </tr>\n",
       "    <tr>\n",
       "      <th>25%</th>\n",
       "      <td>0.336472</td>\n",
       "      <td>0.000000</td>\n",
       "      <td>0.182322</td>\n",
       "      <td>-0.148229</td>\n",
       "      <td>5.391783</td>\n",
       "      <td>0.000000</td>\n",
       "    </tr>\n",
       "    <tr>\n",
       "      <th>50%</th>\n",
       "      <td>0.667501</td>\n",
       "      <td>0.421860</td>\n",
       "      <td>0.405465</td>\n",
       "      <td>0.095310</td>\n",
       "      <td>5.890144</td>\n",
       "      <td>0.000000</td>\n",
       "    </tr>\n",
       "    <tr>\n",
       "      <th>75%</th>\n",
       "      <td>0.906085</td>\n",
       "      <td>0.641854</td>\n",
       "      <td>0.530628</td>\n",
       "      <td>0.262364</td>\n",
       "      <td>6.534769</td>\n",
       "      <td>0.693147</td>\n",
       "    </tr>\n",
       "    <tr>\n",
       "      <th>max</th>\n",
       "      <td>1.648659</td>\n",
       "      <td>1.386294</td>\n",
       "      <td>1.098612</td>\n",
       "      <td>0.916291</td>\n",
       "      <td>8.306966</td>\n",
       "      <td>2.197225</td>\n",
       "    </tr>\n",
       "  </tbody>\n",
       "</table>\n",
       "</div>"
      ],
      "text/plain": [
       "       log_diam1  log_diam2  log_total_height  log_canopy_height  log_weight  \\\n",
       "count  46.000000  46.000000         46.000000          46.000000   46.000000   \n",
       "mean    0.664373   0.325520          0.340767           0.048187    5.919543   \n",
       "std     0.393820   0.523814          0.337371           0.344195    0.913676   \n",
       "min    -0.223144  -0.916291         -0.430783          -0.693147    4.097672   \n",
       "25%     0.336472   0.000000          0.182322          -0.148229    5.391783   \n",
       "50%     0.667501   0.421860          0.405465           0.095310    5.890144   \n",
       "75%     0.906085   0.641854          0.530628           0.262364    6.534769   \n",
       "max     1.648659   1.386294          1.098612           0.916291    8.306966   \n",
       "\n",
       "       log_density  \n",
       "count    46.000000  \n",
       "mean      0.302183  \n",
       "std       0.557538  \n",
       "min       0.000000  \n",
       "25%       0.000000  \n",
       "50%       0.000000  \n",
       "75%       0.693147  \n",
       "max       2.197225  "
      ]
     },
     "execution_count": 17,
     "metadata": {},
     "output_type": "execute_result"
    }
   ],
   "source": [
    "mesquite[[\"log_diam1\", \"log_diam2\", \"log_total_height\", \"log_canopy_height\", \"log_weight\", \"log_density\"]].describe()"
   ]
  },
  {
   "cell_type": "markdown",
   "metadata": {},
   "source": [
    "Before estimating a new model, let's check the *adjusted* $R^2$:"
   ]
  },
  {
   "cell_type": "code",
   "execution_count": 18,
   "metadata": {},
   "outputs": [
    {
     "data": {
      "text/plain": [
       "0.8154810264106127"
      ]
     },
     "execution_count": 18,
     "metadata": {},
     "output_type": "execute_result"
    }
   ],
   "source": [
    "models.adjusted_r_squared(result)"
   ]
  },
  {
   "cell_type": "markdown",
   "metadata": {},
   "source": [
    "Let's estimate the new model using just these new log() variables:"
   ]
  },
  {
   "cell_type": "code",
   "execution_count": 19,
   "metadata": {},
   "outputs": [
    {
     "name": "stdout",
     "output_type": "stream",
     "text": [
      "Model: log_weight ~ log_diam1 + log_diam2 + log_total_height + log_canopy_height + log_density\n",
      "-----------------  ---------  -----  -------  ----\n",
      "                                     95% BCI\n",
      "Coefficients                  Mean   Lo       Hi\n",
      "                   $\\beta_0$  4.97   4.59     5.33\n",
      "log_diam1          $\\beta_1$  0.73   0.11     1.26\n",
      "log_diam2          $\\beta_2$  0.79   0.28     1.22\n",
      "log_total_height   $\\beta_3$  0.70   -0.18    1.39\n",
      "log_canopy_height  $\\beta_4$  0.01   -0.65    0.81\n",
      "log_density        $\\beta_5$  -0.11  -0.45    0.06\n",
      "\n",
      "Metrics            Mean       Lo     Hi\n",
      "$\\sigma$           0.40       0.29   0.46\n",
      "$R^2$              0.83       0.73   0.91\n",
      "-----------------  ---------  -----  -------  ----\n"
     ]
    }
   ],
   "source": [
    "model =  \"log_weight ~ log_diam1 + log_diam2 + log_total_height + log_canopy_height + log_density\"\n",
    "result = models.bootstrap_linear_regression(model, data=mesquite)\n",
    "print(models.describe_bootstrap_lr(result))"
   ]
  },
  {
   "cell_type": "markdown",
   "metadata": {},
   "source": [
    "How do we interpret the $\\beta_i$s in such an model? They're *elasticities*: a 1% increase in $x_i$ leads to a $\\beta_i$% increase in $y$.\n",
    "\n",
    "The $R^2$ has dipped and the intervals have gotten sketchier. What about $\\bar{R}^2$?"
   ]
  },
  {
   "cell_type": "code",
   "execution_count": 20,
   "metadata": {},
   "outputs": [
    {
     "data": {
      "text/plain": [
       "0.7961538611828038"
      ]
     },
     "execution_count": 20,
     "metadata": {},
     "output_type": "execute_result"
    }
   ],
   "source": [
    "models.adjusted_r_squared(result)"
   ]
  },
  {
   "cell_type": "markdown",
   "metadata": {},
   "source": [
    "The adjusted $R^2$ fell as well. And what about our residuals?"
   ]
  },
  {
   "cell_type": "code",
   "execution_count": 21,
   "metadata": {},
   "outputs": [
    {
     "data": {
      "image/png": "[encoded data removed]",
      "text/plain": [
       "<Figure size 1440x432 with 5 Axes>"
      ]
     },
     "metadata": {},
     "output_type": "display_data"
    }
   ],
   "source": [
    "figure = plt.figure(figsize=(20,6))\n",
    "\n",
    "variables = [\"log_diam1\", \"log_diam2\", \"log_total_height\", \"log_canopy_height\", \"log_density\"]\n",
    "\n",
    "plots = len( variables)\n",
    "rows = (plots // 3) + 1\n",
    "\n",
    "for i, variable in enumerate( variables):\n",
    "    axes = figure.add_subplot(rows, 3, i + 1)\n",
    "\n",
    "    keyed_values = sorted( zip( mesquite[ variable].values, result[ \"residuals\"]), key=lambda x: x[ 0])\n",
    "    residuals = [x[ 1][ 0] for x in keyed_values]\n",
    "    \n",
    "    axes.plot(list(range(0, result[ \"n\"])), residuals, '.', color=\"dimgray\", alpha=0.75)\n",
    "    axes.axhline(y=0.0, xmin=0, xmax=result[ \"n\"], c=\"firebrick\", alpha=0.5)\n",
    "    axes.set_title( variable + \" v. residuals\")\n",
    "\n",
    "plt.show()\n",
    "plt.close()"
   ]
  },
  {
   "cell_type": "markdown",
   "metadata": {},
   "source": [
    "*Most* of the residuals are fixed; density still looks a little heteroskedastic.\n",
    "\n",
    "Perhaps there's still just too much multicollinearity. Volume is the product of all the dimensions and for an arbitrary three dimensional shape, one of those might vary significantly but probably not for trees. Maybe we should just use a *volume* feature. In \"log space\", log_volume is the *sum* of the three dimensions:"
   ]
  },
  {
   "cell_type": "code",
   "execution_count": 22,
   "metadata": {},
   "outputs": [],
   "source": [
    "mesquite[ \"log_canopy_volume\"] = mesquite[ \"log_diam1\"] + mesquite[ \"log_diam2\"] + mesquite[ \"log_canopy_height\"]"
   ]
  },
  {
   "cell_type": "code",
   "execution_count": 23,
   "metadata": {},
   "outputs": [
    {
     "name": "stdout",
     "output_type": "stream",
     "text": [
      "Model: log_weight ~ log_canopy_volume\n",
      "-----------------  ---------  ----  -------  ----\n",
      "                                    95% BCI\n",
      "Coefficients                  Mean  Lo       Hi\n",
      "                   $\\beta_0$  5.17  5.01     5.30\n",
      "log_canopy_volume  $\\beta_1$  0.72  0.64     0.81\n",
      "\n",
      "Metrics            Mean       Lo    Hi\n",
      "$\\sigma$           0.41       0.33  0.49\n",
      "$R^2$              0.80       0.66  0.88\n",
      "-----------------  ---------  ----  -------  ----\n"
     ]
    }
   ],
   "source": [
    "model =  \"log_weight ~ log_canopy_volume\"\n",
    "result = models.bootstrap_linear_regression(model, data=mesquite)\n",
    "print(models.describe_bootstrap_lr(result))"
   ]
  },
  {
   "cell_type": "markdown",
   "metadata": {},
   "source": [
    "Almost all of the variation in weight comes from volume. Still, our $R^2$ isn't as high as it was (which may be because of the number of variables used in the different models). What about adjusted $R^2$?"
   ]
  },
  {
   "cell_type": "code",
   "execution_count": 24,
   "metadata": {},
   "outputs": [
    {
     "data": {
      "text/plain": [
       "0.7848634245562538"
      ]
     },
     "execution_count": 24,
     "metadata": {},
     "output_type": "execute_result"
    }
   ],
   "source": [
    "models.adjusted_r_squared(result)"
   ]
  },
  {
   "cell_type": "markdown",
   "metadata": {},
   "source": [
    "It's lower than what we've seen but this is just *one* variable in the model. Are we missing anything else? There are two possible additional features:\n",
    "\n",
    "$area = diam1 \\times diam2$\n",
    "\n",
    "$shape = diam1 \\div diam2$\n",
    "\n",
    "With our log representations, these are addition and subtraction:"
   ]
  },
  {
   "cell_type": "code",
   "execution_count": 25,
   "metadata": {},
   "outputs": [],
   "source": [
    "mesquite[ \"log_canopy_area\"] = mesquite[ \"log_diam1\"] + mesquite[ \"log_diam2\"]\n",
    "mesquite[ \"log_canopy_shape\"] = mesquite[ \"log_diam1\"] - mesquite[ \"log_diam2\"]"
   ]
  },
  {
   "cell_type": "markdown",
   "metadata": {},
   "source": [
    "We expect both of these to be positively related to weight:"
   ]
  },
  {
   "cell_type": "code",
   "execution_count": 26,
   "metadata": {},
   "outputs": [
    {
     "name": "stdout",
     "output_type": "stream",
     "text": [
      "Model: log_weight ~ log_canopy_volume + log_canopy_area + log_canopy_shape\n",
      "-----------------  ---------  -----  -------  ----\n",
      "                                     95% BCI\n",
      "Coefficients                  Mean   Lo       Hi\n",
      "                   $\\beta_0$  5.12   4.83     5.49\n",
      "log_canopy_volume  $\\beta_1$  0.40   -0.04    1.00\n",
      "log_canopy_area    $\\beta_2$  0.42   -0.36    1.00\n",
      "log_canopy_shape   $\\beta_3$  -0.08  -0.55    0.34\n",
      "\n",
      "Metrics            Mean       Lo     Hi\n",
      "$\\sigma$           0.41       0.31   0.49\n",
      "$R^2$              0.81       0.68   0.90\n",
      "-----------------  ---------  -----  -------  ----\n"
     ]
    }
   ],
   "source": [
    "model =  \"log_weight ~ log_canopy_volume + log_canopy_area + log_canopy_shape\"\n",
    "result = models.bootstrap_linear_regression(model, data=mesquite)\n",
    "print(models.describe_bootstrap_lr(result))"
   ]
  },
  {
   "cell_type": "code",
   "execution_count": 27,
   "metadata": {},
   "outputs": [
    {
     "data": {
      "text/plain": [
       "0.7865195478356122"
      ]
     },
     "execution_count": 27,
     "metadata": {},
     "output_type": "execute_result"
    }
   ],
   "source": [
    "models.adjusted_r_squared(result)"
   ]
  },
  {
   "cell_type": "markdown",
   "metadata": {},
   "source": [
    "Still not as good as the original model,"
   ]
  },
  {
   "cell_type": "code",
   "execution_count": 28,
   "metadata": {},
   "outputs": [
    {
     "name": "stdout",
     "output_type": "stream",
     "text": [
      "log_canopy_volume P(>0)=0.960 (strong)\n",
      "log_canopy_area P(>0)=0.790 (strong)\n",
      "log_canopy_shape P(>0)=0.370 (mixed)\n"
     ]
    }
   ],
   "source": [
    "predictions = {\"log_canopy_volume\": \"+\", \"log_canopy_area\": \"+\", \"log_canopy_shape\": \"+\"}\n",
    "models.evaluate_coefficient_predictions(predictions, result)"
   ]
  },
  {
   "cell_type": "markdown",
   "metadata": {},
   "source": [
    "and the evidence for our new features is mixed in one case but strong in the others. However, the model makes *sense* so let's add in the other features:"
   ]
  },
  {
   "cell_type": "code",
   "execution_count": 29,
   "metadata": {},
   "outputs": [
    {
     "name": "stdout",
     "output_type": "stream",
     "text": [
      "Model: log_weight ~ log_canopy_volume + log_canopy_area + log_canopy_shape + mcd + log_total_height + log_density\n",
      "-----------------  ---------  -----  -------  -----\n",
      "                                     95% BCI\n",
      "Coefficients                  Mean   Lo       Hi\n",
      "                   $\\beta_0$  4.77   4.38     5.08\n",
      "log_canopy_volume  $\\beta_1$  0.37   0.15     1.41\n",
      "log_canopy_area    $\\beta_2$  0.40   -0.68    0.61\n",
      "log_canopy_shape   $\\beta_3$  -0.38  -0.89    -0.05\n",
      "mcd                $\\beta_4$  0.58   0.46     0.87\n",
      "log_total_height   $\\beta_5$  0.39   -0.64    0.85\n",
      "log_density        $\\beta_6$  0.11   -0.09    0.29\n",
      "\n",
      "Metrics            Mean       Lo     Hi\n",
      "$\\sigma$           0.33       0.21   0.35\n",
      "$R^2$              0.89       0.85   0.96\n",
      "-----------------  ---------  -----  -------  -----\n"
     ]
    }
   ],
   "source": [
    "model =  \"log_weight ~ log_canopy_volume + log_canopy_area + log_canopy_shape + mcd + log_total_height + log_density\"\n",
    "result = models.bootstrap_linear_regression(model, data=mesquite)\n",
    "print(models.describe_bootstrap_lr(result))"
   ]
  },
  {
   "cell_type": "code",
   "execution_count": 30,
   "metadata": {},
   "outputs": [
    {
     "data": {
      "text/plain": [
       "0.8629155301645439"
      ]
     },
     "execution_count": 30,
     "metadata": {},
     "output_type": "execute_result"
    }
   ],
   "source": [
    "models.adjusted_r_squared(result)"
   ]
  },
  {
   "cell_type": "markdown",
   "metadata": {},
   "source": [
    "This is our best result so far judging by the adjusted $R^2$. The signs on almost all of the coefficients are what we expect. What about the evidence?"
   ]
  },
  {
   "cell_type": "code",
   "execution_count": 31,
   "metadata": {},
   "outputs": [
    {
     "name": "stdout",
     "output_type": "stream",
     "text": [
      "log_canopy_volume P(>0)=0.990 (strong)\n",
      "log_canopy_area P(>0)=0.700 (strong)\n",
      "log_canopy_shape P(>0)=0.020 (weak)\n",
      "mcd P(>0)=1.000 (strong)\n",
      "log_total_height P(>0)=0.750 (strong)\n",
      "log_density P(>0)=0.900 (strong)\n"
     ]
    }
   ],
   "source": [
    "predictions = {\"log_canopy_volume\": \"+\", \"log_canopy_area\": \"+\", \"log_canopy_shape\": \"+\", \"mcd\": \"+\",\n",
    "               \"log_total_height\": \"+\", \"log_density\": \"+\"}\n",
    "models.evaluate_coefficient_predictions(predictions, result)"
   ]
  },
  {
   "cell_type": "markdown",
   "metadata": {},
   "source": [
    "The evidence for all the coefficients is strong except log_canopy_shape. However, the evidence is strong for log_canopy_shape being negative *is* strong so we will need to revisit our theory about what this is measuring.\n",
    "\n",
    "Finally, we need to look at the residuals:"
   ]
  },
  {
   "cell_type": "code",
   "execution_count": 32,
   "metadata": {},
   "outputs": [
    {
     "data": {
      "image/png": "[encoded data removed]",
      "text/plain": [
       "<Figure size 1440x432 with 5 Axes>"
      ]
     },
     "metadata": {},
     "output_type": "display_data"
    }
   ],
   "source": [
    "figure = plt.figure(figsize=(20,6))\n",
    "\n",
    "variables = [\"log_canopy_volume\", \"log_canopy_area\", \"log_canopy_shape\", \"log_total_height\", \"log_density\"]\n",
    "\n",
    "plots = len( variables)\n",
    "rows = (plots // 3) + 1\n",
    "\n",
    "for i, variable in enumerate( variables):\n",
    "    axes = figure.add_subplot(rows, 3, i + 1)\n",
    "\n",
    "    keyed_values = sorted( zip( mesquite[ variable].values, result[ \"residuals\"]), key=lambda x: x[ 0])\n",
    "    residuals = [x[ 1][ 0] for x in keyed_values]\n",
    "    \n",
    "    axes.plot(list(range(0, result[ \"n\"])), residuals, '.', color=\"dimgray\", alpha=0.75)\n",
    "    axes.axhline(y=0.0, xmin=0, xmax=result[ \"n\"], c=\"firebrick\", alpha=0.5)\n",
    "    axes.set_title( variable + \" v. residuals\")\n",
    "\n",
    "plt.show()\n",
    "plt.close()"
   ]
  },
  {
   "cell_type": "markdown",
   "metadata": {},
   "source": [
    "Our residuals seem to be pretty good."
   ]
  },
  {
   "cell_type": "markdown",
   "metadata": {},
   "source": [
    "When you are building a regression based on domain knowledge for the purpose of explanation (you are interested in the coefficient values) or prediction (you're just interested in the $\\sigma$ and $R^2$), this is the basic approach you take. If this is the ultimate goal, this will inform your EDA a bit. You will start to look for broad patterns in variables:\n",
    "\n",
    "1. Is this variable approximately Normally distributed?\n",
    "2. If this variable doesn't look Normally distributed, are there transformations I can apply to make it normally distributed?\n",
    "3. Is there domain knowledge that suggests there might be increasing or decreasing returns from this variable? Should I then look at squared or square-root transformations of the variable?"
   ]
  }
 ],
 "metadata": {
  "kernelspec": {
   "display_name": "Python (en685648)",
   "language": "python",
   "name": "en685648"
  },
  "language_info": {
   "codemirror_mode": {
    "name": "ipython",
    "version": 3
   },
   "file_extension": ".py",
   "mimetype": "text/x-python",
   "name": "python",
   "nbconvert_exporter": "python",
   "pygments_lexer": "ipython3",
   "version": "3.7.1"
  },
  "toc": {
   "colors": {
    "hover_highlight": "#DAA520",
    "navigate_num": "#000000",
    "navigate_text": "#333333",
    "running_highlight": "#FF0000",
    "selected_highlight": "#FFD700",
    "sidebar_border": "#EEEEEE",
    "wrapper_background": "#FFFFFF"
   },
   "moveMenuLeft": true,
   "nav_menu": {
    "height": "30px",
    "width": "252px"
   },
   "navigate_menu": true,
   "number_sections": true,
   "sideBar": true,
   "threshold": 4,
   "toc_cell": false,
   "toc_section_display": "block",
   "toc_window_display": false,
   "widenNotebook": false
  }
 },
 "nbformat": 4,
 "nbformat_minor": 2
}
