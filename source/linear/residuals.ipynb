{
 "cells": [
  {
   "cell_type": "code",
   "execution_count": 1,
   "metadata": {},
   "outputs": [],
   "source": [
    "import warnings\n",
    "warnings.filterwarnings('ignore')"
   ]
  },
  {
   "cell_type": "code",
   "execution_count": 2,
   "metadata": {},
   "outputs": [],
   "source": [
    "%matplotlib inline"
   ]
  },
  {
   "cell_type": "code",
   "execution_count": 3,
   "metadata": {},
   "outputs": [],
   "source": [
    "import numpy as np\n",
    "import scipy.stats as stats\n",
    "import seaborn as sns\n",
    "import matplotlib.pyplot as plt\n",
    "import pandas as pd\n",
    "import random\n",
    "import patsy\n",
    "import sklearn.linear_model as linear\n",
    "\n",
    "sns.set(style=\"whitegrid\")\n",
    "\n",
    "import sys\n",
    "sys.path.append('resources')\n",
    "import models"
   ]
  },
  {
   "cell_type": "markdown",
   "metadata": {},
   "source": [
    "# Residuals\n",
    "\n",
    "When building regression models of all kinds, we are often concerned with improving the model. There are many ways to do this. Many of them involve domain knowledge, did we leave any important variables out? These kinds of questions can be answered by looking at the $R^2$ or $\\sigma$ (error of the regression). If the $R^2$ is low or the $\\sigma$ is high, it may not be because of missing variables but because of not enough data. This is one of the advantages of many of the *machine learning* methods for evaluation models because we can thinking of our models in terms under or overfitting and see where we might be under or overfitting. We'll look at *general* model evaluation in the next chapter.\n",
    "\n",
    "A more typical approach for linear regression, however, is to look at the *residuals*. Remember that our regression model is a linear function of the features:\n",
    "\n",
    "$\\hat{y} = \\beta_0 + \\beta_1 x_1 + \\beta_2 x_2 + \\dots + \\beta_n x_n + N(0,\\sigma)$\n",
    "\n",
    "We learn this model from a set of observations, $(X, y)$. This means, for every observation, we can use the model to estimate what we think y would be ($\\hat{y}$) and we have the actual $y$ to compare to. The difference is called the *residual* short for \"residual error of the model$:\n",
    "\n",
    "$r_i = y_i - \\hat{y}_i$\n",
    "\n",
    "where $i$ is some observation. If $r_i$ is positive, we underestimated $y$ and if $r_i$ is negative, we overestimated $y$. When we look at residuals, we plot them against a numerical feature that has been sorted. We should *not* see any pattern other than, essentially, $\\epsilon$. Remember that $\\epsilon$ is normally distributed with mean 0 and some $\\sigma$.\n",
    "\n",
    "Because the feature $x_j$ is sorted, we will readily be able to see many patterns if they exist in the data. Put a different way, we should *not* see any patterns if our model is sufficient.\n",
    "\n",
    "What patterns might we see?\n",
    "\n",
    "1. The distribution of residuals may not be distributed normally, $N(0, \\sigma)$.\n",
    "2. The residuals may increase as $x_j$ increases.\n",
    "3. The residuals may decrease as $x_j$ decreases.\n",
    "4. There may be some non-linear change in residuals as $x_j$ changes (high residuals at low and high values of $x_j$ but low residuals at $x_j$).\n",
    "\n",
    "While you will often hear about the first one, this is often the least interesting of the bunch. While a large divergence from normality may affect our ability to generate accurate predictions, it does not impair our ability to study effects.\n",
    "\n",
    "Let's look at an example."
   ]
  },
  {
   "cell_type": "markdown",
   "metadata": {},
   "source": [
    "## Noiseless Data\n",
    "\n",
    "We're going to start with the dead simplest generated data and regression: one with $\\epsilon = 0$:\n",
    "\n",
    "$y = 1.00 + 2.5 x_1 + N(0, 0)$\n",
    "\n",
    "Note that the *generating* function generates $y$ and not $\\hat{y}$. The generating function is the real deal. We're going to estimate the following model:\n",
    "\n",
    "$\\hat{y} = \\beta_0 + \\beta_1 x_1 + \\epsilon$\n",
    "\n",
    "Without loss of generality, I'm going to make $x_1$ have a domain of about $(0,10)$. This makes the $\\beta_0$ term \"meaningful\" because it can actually occur in the domain of $x_1$ and we can side step all of *those* problems."
   ]
  },
  {
   "cell_type": "code",
   "execution_count": 4,
   "metadata": {},
   "outputs": [],
   "source": [
    "np.random.seed(6734745)"
   ]
  },
  {
   "cell_type": "code",
   "execution_count": 5,
   "metadata": {},
   "outputs": [],
   "source": [
    "x1 = np.array( [10*np.random.random() for _ in range( 100)])\n",
    "ys = 1.00 + 2.5 * x1\n",
    "data = pd.DataFrame({\"y\": ys, \"x1\": x1})"
   ]
  },
  {
   "cell_type": "code",
   "execution_count": 6,
   "metadata": {},
   "outputs": [
    {
     "data": {
      "text/html": [
       "<div>\n",
       "<style scoped>\n",
       "    .dataframe tbody tr th:only-of-type {\n",
       "        vertical-align: middle;\n",
       "    }\n",
       "\n",
       "    .dataframe tbody tr th {\n",
       "        vertical-align: top;\n",
       "    }\n",
       "\n",
       "    .dataframe thead th {\n",
       "        text-align: right;\n",
       "    }\n",
       "</style>\n",
       "<table border=\"1\" class=\"dataframe\">\n",
       "  <thead>\n",
       "    <tr style=\"text-align: right;\">\n",
       "      <th></th>\n",
       "      <th>y</th>\n",
       "      <th>x1</th>\n",
       "    </tr>\n",
       "  </thead>\n",
       "  <tbody>\n",
       "    <tr>\n",
       "      <th>count</th>\n",
       "      <td>100.000000</td>\n",
       "      <td>100.000000</td>\n",
       "    </tr>\n",
       "    <tr>\n",
       "      <th>mean</th>\n",
       "      <td>14.361599</td>\n",
       "      <td>5.344639</td>\n",
       "    </tr>\n",
       "    <tr>\n",
       "      <th>std</th>\n",
       "      <td>7.921989</td>\n",
       "      <td>3.168796</td>\n",
       "    </tr>\n",
       "    <tr>\n",
       "      <th>min</th>\n",
       "      <td>1.238822</td>\n",
       "      <td>0.095529</td>\n",
       "    </tr>\n",
       "    <tr>\n",
       "      <th>25%</th>\n",
       "      <td>7.408161</td>\n",
       "      <td>2.563264</td>\n",
       "    </tr>\n",
       "    <tr>\n",
       "      <th>50%</th>\n",
       "      <td>14.683931</td>\n",
       "      <td>5.473572</td>\n",
       "    </tr>\n",
       "    <tr>\n",
       "      <th>75%</th>\n",
       "      <td>22.504152</td>\n",
       "      <td>8.601661</td>\n",
       "    </tr>\n",
       "    <tr>\n",
       "      <th>max</th>\n",
       "      <td>25.866052</td>\n",
       "      <td>9.946421</td>\n",
       "    </tr>\n",
       "  </tbody>\n",
       "</table>\n",
       "</div>"
      ],
      "text/plain": [
       "                y          x1\n",
       "count  100.000000  100.000000\n",
       "mean    14.361599    5.344639\n",
       "std      7.921989    3.168796\n",
       "min      1.238822    0.095529\n",
       "25%      7.408161    2.563264\n",
       "50%     14.683931    5.473572\n",
       "75%     22.504152    8.601661\n",
       "max     25.866052    9.946421"
      ]
     },
     "execution_count": 6,
     "metadata": {},
     "output_type": "execute_result"
    }
   ],
   "source": [
    "data.describe()"
   ]
  },
  {
   "cell_type": "markdown",
   "metadata": {},
   "source": [
    "Let's run the regression model. We're going to use the simple one so we can concentrate on the residuals."
   ]
  },
  {
   "cell_type": "code",
   "execution_count": 7,
   "metadata": {},
   "outputs": [
    {
     "name": "stdout",
     "output_type": "stream",
     "text": [
      "Model: y ~ x1\n",
      "------------  ---------  -----\n",
      "Coefficients             Value\n",
      "              $\\beta_0$  1.00\n",
      "x1            $\\beta_1$  2.50\n",
      "\n",
      "Metrics       Value\n",
      "$\\sigma$      0.00\n",
      "$R^2$         1.00\n",
      "------------  ---------  -----\n"
     ]
    }
   ],
   "source": [
    "result = models.linear_regression(\"y ~ x1\", data)\n",
    "print(models.simple_describe_lr(result))"
   ]
  },
  {
   "cell_type": "markdown",
   "metadata": {},
   "source": [
    "This is unsurprising. There's no noise in the model...it's all signal. The estimates of the coefficients are nearly exact, there's infinitesimal error, and the $R^2$ is 100%. If we chart the data and the line, we see:"
   ]
  },
  {
   "cell_type": "code",
   "execution_count": 8,
   "metadata": {},
   "outputs": [
    {
     "data": {
      "image/png": "[encoded data removed]",
      "text/plain": [
       "<Figure size 360x288 with 1 Axes>"
      ]
     },
     "metadata": {},
     "output_type": "display_data"
    }
   ],
   "source": [
    "figure = plt.figure(figsize=(5,4))\n",
    "\n",
    "axes = figure.add_subplot(1, 1, 1)\n",
    "\n",
    "axes.scatter(data.x1, data.y, color=\"dimgray\", alpha=0.5)\n",
    "beta = result[\"coefficients\"]\n",
    "axes.plot(data.x1, [beta[ 0] + beta[ 1] * x for x in data.x1], '-', color=\"firebrick\")\n",
    "axes.set_title(result[\"formula\"])\n",
    "axes.set_xlabel(r\"$x_1$\")\n",
    "axes.set_ylabel(r\"$y$\")\n",
    "\n",
    "plt.show()\n",
    "plt.close()"
   ]
  },
  {
   "cell_type": "markdown",
   "metadata": {},
   "source": [
    "We can also plot the residuals. It's often handy to calculate their mean and standard deviation as well. I'm going to limit each to 4 decimal places to avoid showing the underflow."
   ]
  },
  {
   "cell_type": "code",
   "execution_count": 9,
   "metadata": {},
   "outputs": [
    {
     "name": "stdout",
     "output_type": "stream",
     "text": [
      "mean =  -0.0000\n",
      "std  =  0.0000\n"
     ]
    }
   ],
   "source": [
    "print(\"mean = \", \"%.4f\" % np.mean(result[\"residuals\"]))\n",
    "print(\"std  = \", \"%.4f\" % np.std(result[\"residuals\"]))"
   ]
  },
  {
   "cell_type": "markdown",
   "metadata": {},
   "source": [
    "And here's the residual plot. Note that I had to do something similar with the y axis because of the underflow. Otherwise, you see a pattern that is entirely do to floating point error."
   ]
  },
  {
   "cell_type": "code",
   "execution_count": 10,
   "metadata": {},
   "outputs": [
    {
     "data": {
      "image/png": "[encoded data removed]",
      "text/plain": [
       "<Figure size 360x288 with 1 Axes>"
      ]
     },
     "metadata": {},
     "output_type": "display_data"
    }
   ],
   "source": [
    "figure = plt.figure(figsize=(5,4))\n",
    "\n",
    "axes = figure.add_subplot(1, 1, 1)\n",
    "\n",
    "# sorted\n",
    "keyed_values = sorted(zip( data.x1, result[\"residuals\"]), key=lambda x: x[ 0])\n",
    "\n",
    "residuals = [x[ 1][ 0] for x in keyed_values]\n",
    "\n",
    "axes.plot(list(range(0, result[ \"n\"])), residuals, '.', color=\"dimgray\", alpha=0.75)\n",
    "axes.axhline(y=0.0, xmin=0, xmax=result[ \"n\"], c=\"black\", alpha=0.5)\n",
    "axes.set_title( \"x_1 v. residuals\")\n",
    "axes.set_ylim((-0.5, 0.5))\n",
    "axes.set_ylabel(\"Residuals\")\n",
    "axes.set_xlabel(r\"$x_1$ (sorted)\")\n",
    "\n",
    "plt.show()\n",
    "plt.close()"
   ]
  },
  {
   "cell_type": "markdown",
   "metadata": {},
   "source": [
    "There's nothing to see here but that's good. We're just setting up the remaining examples. At first we're going to concentrate on looking at patterns in data that have no \"noise\". We'll introduce noise at the end so that the data looks more realistic."
   ]
  },
  {
   "cell_type": "markdown",
   "metadata": {},
   "source": [
    "## A Squared Term\n",
    "\n",
    "So far, so good. We have a perfect model and perfect residuals. What I want to do now is show you what the residuals would look like--in the absence of noise--if the true function were:\n",
    "\n",
    "$y = 1.00 + 2.5 x_1^2 + N(0, 0)$\n",
    "\n",
    "but we only estimated:\n",
    "\n",
    "$\\hat{y} = \\beta_0 + \\beta_1 x_1 + \\epsilon$\n",
    "\n",
    "First, we need the data. We'll call this new \"y\", \"y1\" and add \"x1_sqrd\"."
   ]
  },
  {
   "cell_type": "code",
   "execution_count": 11,
   "metadata": {},
   "outputs": [
    {
     "data": {
      "text/html": [
       "<div>\n",
       "<style scoped>\n",
       "    .dataframe tbody tr th:only-of-type {\n",
       "        vertical-align: middle;\n",
       "    }\n",
       "\n",
       "    .dataframe tbody tr th {\n",
       "        vertical-align: top;\n",
       "    }\n",
       "\n",
       "    .dataframe thead th {\n",
       "        text-align: right;\n",
       "    }\n",
       "</style>\n",
       "<table border=\"1\" class=\"dataframe\">\n",
       "  <thead>\n",
       "    <tr style=\"text-align: right;\">\n",
       "      <th></th>\n",
       "      <th>y</th>\n",
       "      <th>x1</th>\n",
       "      <th>x1_sqrd</th>\n",
       "      <th>y1</th>\n",
       "    </tr>\n",
       "  </thead>\n",
       "  <tbody>\n",
       "    <tr>\n",
       "      <th>count</th>\n",
       "      <td>100.000000</td>\n",
       "      <td>100.000000</td>\n",
       "      <td>100.000000</td>\n",
       "      <td>100.000000</td>\n",
       "    </tr>\n",
       "    <tr>\n",
       "      <th>mean</th>\n",
       "      <td>14.361599</td>\n",
       "      <td>5.344639</td>\n",
       "      <td>38.506023</td>\n",
       "      <td>97.265058</td>\n",
       "    </tr>\n",
       "    <tr>\n",
       "      <th>std</th>\n",
       "      <td>7.921989</td>\n",
       "      <td>3.168796</td>\n",
       "      <td>34.046488</td>\n",
       "      <td>85.116221</td>\n",
       "    </tr>\n",
       "    <tr>\n",
       "      <th>min</th>\n",
       "      <td>1.238822</td>\n",
       "      <td>0.095529</td>\n",
       "      <td>0.009126</td>\n",
       "      <td>1.022814</td>\n",
       "    </tr>\n",
       "    <tr>\n",
       "      <th>25%</th>\n",
       "      <td>7.408161</td>\n",
       "      <td>2.563264</td>\n",
       "      <td>6.570634</td>\n",
       "      <td>17.426584</td>\n",
       "    </tr>\n",
       "    <tr>\n",
       "      <th>50%</th>\n",
       "      <td>14.683931</td>\n",
       "      <td>5.473572</td>\n",
       "      <td>29.960363</td>\n",
       "      <td>75.900909</td>\n",
       "    </tr>\n",
       "    <tr>\n",
       "      <th>75%</th>\n",
       "      <td>22.504152</td>\n",
       "      <td>8.601661</td>\n",
       "      <td>73.989326</td>\n",
       "      <td>185.973315</td>\n",
       "    </tr>\n",
       "    <tr>\n",
       "      <th>max</th>\n",
       "      <td>25.866052</td>\n",
       "      <td>9.946421</td>\n",
       "      <td>98.931284</td>\n",
       "      <td>248.328209</td>\n",
       "    </tr>\n",
       "  </tbody>\n",
       "</table>\n",
       "</div>"
      ],
      "text/plain": [
       "                y          x1     x1_sqrd          y1\n",
       "count  100.000000  100.000000  100.000000  100.000000\n",
       "mean    14.361599    5.344639   38.506023   97.265058\n",
       "std      7.921989    3.168796   34.046488   85.116221\n",
       "min      1.238822    0.095529    0.009126    1.022814\n",
       "25%      7.408161    2.563264    6.570634   17.426584\n",
       "50%     14.683931    5.473572   29.960363   75.900909\n",
       "75%     22.504152    8.601661   73.989326  185.973315\n",
       "max     25.866052    9.946421   98.931284  248.328209"
      ]
     },
     "execution_count": 11,
     "metadata": {},
     "output_type": "execute_result"
    }
   ],
   "source": [
    "data[ \"x1_sqrd\"] = data.x1 ** 2\n",
    "data[\"y1\"] = 1.00 + 2.5 * data.x1_sqrd\n",
    "\n",
    "data.describe()"
   ]
  },
  {
   "cell_type": "markdown",
   "metadata": {},
   "source": [
    "Let's fit the model:"
   ]
  },
  {
   "cell_type": "code",
   "execution_count": 12,
   "metadata": {},
   "outputs": [
    {
     "name": "stdout",
     "output_type": "stream",
     "text": [
      "Model: y1 ~ x1\n",
      "------------  ---------  ------\n",
      "Coefficients             Value\n",
      "              $\\beta_0$  -42.42\n",
      "x1            $\\beta_1$  26.14\n",
      "\n",
      "Metrics       Value\n",
      "$\\sigma$      19.75\n",
      "$R^2$         0.95\n",
      "------------  ---------  ------\n"
     ]
    }
   ],
   "source": [
    "result = models.linear_regression(\"y1 ~ x1\", data)\n",
    "print(models.simple_describe_lr(result))"
   ]
  },
  {
   "cell_type": "markdown",
   "metadata": {},
   "source": [
    "Wait. There's no noise. Why is the $R^2$ less than 100%? And the error is now 19.7 units. Let's look at a scatter plot of the data, the model, and the residuals:"
   ]
  },
  {
   "cell_type": "code",
   "execution_count": 13,
   "metadata": {},
   "outputs": [
    {
     "data": {
      "image/png": "[encoded data removed]",
      "text/plain": [
       "<Figure size 720x432 with 2 Axes>"
      ]
     },
     "metadata": {},
     "output_type": "display_data"
    }
   ],
   "source": [
    "figure = plt.figure(figsize=(10,6))\n",
    "\n",
    "axes = figure.add_subplot(2, 1, 1)\n",
    "\n",
    "axes.scatter(data.x1, data.y1, color=\"dimgray\", alpha=0.5)\n",
    "beta = result[\"coefficients\"]\n",
    "axes.plot(data.x1, [beta[ 0] + beta[ 1] * x for x in data.x1], '-', color=\"firebrick\")\n",
    "axes.set_title(result[ \"formula\"])\n",
    "axes.set_xlim((0, 10))\n",
    "axes.set_xlabel( \"x_1\")\n",
    "\n",
    "axes = figure.add_subplot(2, 1, 2)\n",
    "\n",
    "keyed_values = sorted(zip(data.x1, result[\"residuals\"]), key=lambda x: x[ 0])\n",
    "\n",
    "residuals = [x[ 1][ 0] for x in keyed_values]\n",
    "\n",
    "axes.plot(list(range(0, result[ \"n\"])), residuals, '.', color=\"dimgray\", alpha=0.75)\n",
    "axes.axhline(y=0.0, xmin=0, xmax=result[ \"n\"], c=\"black\", alpha=0.5)\n",
    "axes.set_title( \"x_1 v. residuals\")\n",
    "axes.set_xlabel( \"x_1 sorted\")\n",
    "axes.set_ylim((-30.0, 30.0))\n",
    "\n",
    "plt.show()\n",
    "plt.close()"
   ]
  },
  {
   "cell_type": "markdown",
   "metadata": {},
   "source": [
    "When plotting residuals, it's always a good idea to have a symmetric y scale. This way you can see skewed residuals more easily. If you let the automatic scaling do its thing, sometimes it will look normal-ish when it's not.\n",
    "\n",
    "These residuals clearly have a pattern they should not have. Notice also it occurs in the absence of \"noise\". What we can see here is a misspecified model in its pure form. There is at least one caveat. The real data was generated by the function:\n",
    "\n",
    "$y = 1.00 + 2.5 x_1^2 + N(0, 0)$\n",
    "\n",
    "Notice the relationship of the coefficient 2.5 to the intercept ($\\beta_0$) 1.00? What if it were smaller? Let's make it 0.025 instead of 2.5."
   ]
  },
  {
   "cell_type": "code",
   "execution_count": 14,
   "metadata": {},
   "outputs": [
    {
     "data": {
      "text/html": [
       "<div>\n",
       "<style scoped>\n",
       "    .dataframe tbody tr th:only-of-type {\n",
       "        vertical-align: middle;\n",
       "    }\n",
       "\n",
       "    .dataframe tbody tr th {\n",
       "        vertical-align: top;\n",
       "    }\n",
       "\n",
       "    .dataframe thead th {\n",
       "        text-align: right;\n",
       "    }\n",
       "</style>\n",
       "<table border=\"1\" class=\"dataframe\">\n",
       "  <thead>\n",
       "    <tr style=\"text-align: right;\">\n",
       "      <th></th>\n",
       "      <th>y</th>\n",
       "      <th>x1</th>\n",
       "      <th>x1_sqrd</th>\n",
       "      <th>y1</th>\n",
       "    </tr>\n",
       "  </thead>\n",
       "  <tbody>\n",
       "    <tr>\n",
       "      <th>count</th>\n",
       "      <td>100.000000</td>\n",
       "      <td>100.000000</td>\n",
       "      <td>100.000000</td>\n",
       "      <td>100.000000</td>\n",
       "    </tr>\n",
       "    <tr>\n",
       "      <th>mean</th>\n",
       "      <td>14.361599</td>\n",
       "      <td>5.344639</td>\n",
       "      <td>38.506023</td>\n",
       "      <td>1.962651</td>\n",
       "    </tr>\n",
       "    <tr>\n",
       "      <th>std</th>\n",
       "      <td>7.921989</td>\n",
       "      <td>3.168796</td>\n",
       "      <td>34.046488</td>\n",
       "      <td>0.851162</td>\n",
       "    </tr>\n",
       "    <tr>\n",
       "      <th>min</th>\n",
       "      <td>1.238822</td>\n",
       "      <td>0.095529</td>\n",
       "      <td>0.009126</td>\n",
       "      <td>1.000228</td>\n",
       "    </tr>\n",
       "    <tr>\n",
       "      <th>25%</th>\n",
       "      <td>7.408161</td>\n",
       "      <td>2.563264</td>\n",
       "      <td>6.570634</td>\n",
       "      <td>1.164266</td>\n",
       "    </tr>\n",
       "    <tr>\n",
       "      <th>50%</th>\n",
       "      <td>14.683931</td>\n",
       "      <td>5.473572</td>\n",
       "      <td>29.960363</td>\n",
       "      <td>1.749009</td>\n",
       "    </tr>\n",
       "    <tr>\n",
       "      <th>75%</th>\n",
       "      <td>22.504152</td>\n",
       "      <td>8.601661</td>\n",
       "      <td>73.989326</td>\n",
       "      <td>2.849733</td>\n",
       "    </tr>\n",
       "    <tr>\n",
       "      <th>max</th>\n",
       "      <td>25.866052</td>\n",
       "      <td>9.946421</td>\n",
       "      <td>98.931284</td>\n",
       "      <td>3.473282</td>\n",
       "    </tr>\n",
       "  </tbody>\n",
       "</table>\n",
       "</div>"
      ],
      "text/plain": [
       "                y          x1     x1_sqrd          y1\n",
       "count  100.000000  100.000000  100.000000  100.000000\n",
       "mean    14.361599    5.344639   38.506023    1.962651\n",
       "std      7.921989    3.168796   34.046488    0.851162\n",
       "min      1.238822    0.095529    0.009126    1.000228\n",
       "25%      7.408161    2.563264    6.570634    1.164266\n",
       "50%     14.683931    5.473572   29.960363    1.749009\n",
       "75%     22.504152    8.601661   73.989326    2.849733\n",
       "max     25.866052    9.946421   98.931284    3.473282"
      ]
     },
     "execution_count": 14,
     "metadata": {},
     "output_type": "execute_result"
    }
   ],
   "source": [
    "data[\"y1\"] = 1.00 + 0.025 * data.x1_sqrd\n",
    "\n",
    "data.describe()"
   ]
  },
  {
   "cell_type": "markdown",
   "metadata": {},
   "source": [
    "And let's estimate the model:"
   ]
  },
  {
   "cell_type": "code",
   "execution_count": 15,
   "metadata": {},
   "outputs": [
    {
     "name": "stdout",
     "output_type": "stream",
     "text": [
      "Model: y1 ~ x1\n",
      "------------  ---------  -----\n",
      "Coefficients             Value\n",
      "              $\\beta_0$  0.57\n",
      "x1            $\\beta_1$  0.26\n",
      "\n",
      "Metrics       Value\n",
      "$\\sigma$      0.20\n",
      "$R^2$         0.95\n",
      "------------  ---------  -----\n"
     ]
    }
   ],
   "source": [
    "result = models.linear_regression(\"y1 ~ x1\", data)\n",
    "print(models.simple_describe_lr(result))"
   ]
  },
  {
   "cell_type": "markdown",
   "metadata": {},
   "source": [
    "And plot the data, model, and residuals:"
   ]
  },
  {
   "cell_type": "code",
   "execution_count": 16,
   "metadata": {},
   "outputs": [
    {
     "data": {
      "image/png": "[encoded data removed]",
      "text/plain": [
       "<Figure size 720x432 with 2 Axes>"
      ]
     },
     "metadata": {},
     "output_type": "display_data"
    }
   ],
   "source": [
    "figure = plt.figure(figsize=(10,6))\n",
    "\n",
    "axes = figure.add_subplot(2, 1, 1)\n",
    "\n",
    "axes.scatter(data.x1, data.y1, color=\"dimgray\", alpha=0.5)\n",
    "beta = result[\"coefficients\"]\n",
    "axes.plot(data.x1, [beta[ 0] + beta[ 1] * x for x in data.x1], '-', color=\"firebrick\")\n",
    "axes.set_title(result[ \"formula\"])\n",
    "axes.set_xlim((0, 10))\n",
    "axes.set_xlabel( \"x_1\")\n",
    "\n",
    "axes = figure.add_subplot(2, 1, 2)\n",
    "\n",
    "keyed_values = sorted(zip(data.x1, result[\"residuals\"]), key=lambda x: x[ 0])\n",
    "\n",
    "residuals = [x[ 1][ 0] for x in keyed_values]\n",
    "\n",
    "axes.plot(list(range(0, result[ \"n\"])), residuals, '.', color=\"dimgray\", alpha=0.75)\n",
    "axes.axhline(y=0.0, xmin=0, xmax=result[ \"n\"], c=\"black\", alpha=0.5)\n",
    "axes.set_title( \"x_1 v. residuals\")\n",
    "axes.set_xlabel( \"x_1 sorted\")\n",
    "axes.set_ylim((-30.0, 30.0))\n",
    "\n",
    "plt.show()\n",
    "plt.close()"
   ]
  },
  {
   "cell_type": "markdown",
   "metadata": {},
   "source": [
    "If we compare this with the original model, our $R^2$ is the same but the $\\sigma$ is significantly smaller. Although the true data was generated by $x_1^2$, because it has such a small effect on $y$, not knowing this creates less of a problem, generates a smaller error. We'll be able to see later that such small effects can easily get swamped by larger ones elsewhere.\n",
    "\n",
    "These experiments also emphasize the importance of working with synthetic data. The only way to really discover all the possibilities is to explore them. Working with synthetic data gives you a safety net. The fun part is when you generate data and it doesn't have the pattern you expected.\n",
    "\n",
    "So based on the pattern in the residuals, we conclude that the real model includes a squared term. We'll see in the next section how to handle that. Let's continue with our exploration of residuals.\n",
    "\n",
    "Let's put $y_1$ back:"
   ]
  },
  {
   "cell_type": "markdown",
   "metadata": {},
   "source": [
    "## A Square Root Term\n",
    "\n",
    "Let's look at another one. What if the true generating function is:\n",
    "\n",
    "$y = 1.00 + 2.5 \\sqrt{x_1} + N(0, 0)$\n",
    "\n",
    "and we estimate:\n",
    "\n",
    "$\\hat{y} = 1.00 + 2.5 x_1 + \\epsilon$\n",
    "\n",
    "?"
   ]
  },
  {
   "cell_type": "code",
   "execution_count": 17,
   "metadata": {},
   "outputs": [
    {
     "data": {
      "text/html": [
       "<div>\n",
       "<style scoped>\n",
       "    .dataframe tbody tr th:only-of-type {\n",
       "        vertical-align: middle;\n",
       "    }\n",
       "\n",
       "    .dataframe tbody tr th {\n",
       "        vertical-align: top;\n",
       "    }\n",
       "\n",
       "    .dataframe thead th {\n",
       "        text-align: right;\n",
       "    }\n",
       "</style>\n",
       "<table border=\"1\" class=\"dataframe\">\n",
       "  <thead>\n",
       "    <tr style=\"text-align: right;\">\n",
       "      <th></th>\n",
       "      <th>y</th>\n",
       "      <th>x1</th>\n",
       "      <th>x1_sqrd</th>\n",
       "      <th>y1</th>\n",
       "      <th>x1_sqrt</th>\n",
       "    </tr>\n",
       "  </thead>\n",
       "  <tbody>\n",
       "    <tr>\n",
       "      <th>count</th>\n",
       "      <td>100.000000</td>\n",
       "      <td>100.000000</td>\n",
       "      <td>100.000000</td>\n",
       "      <td>100.000000</td>\n",
       "      <td>100.000000</td>\n",
       "    </tr>\n",
       "    <tr>\n",
       "      <th>mean</th>\n",
       "      <td>14.361599</td>\n",
       "      <td>5.344639</td>\n",
       "      <td>38.506023</td>\n",
       "      <td>6.426707</td>\n",
       "      <td>2.170683</td>\n",
       "    </tr>\n",
       "    <tr>\n",
       "      <th>std</th>\n",
       "      <td>7.921989</td>\n",
       "      <td>3.168796</td>\n",
       "      <td>34.046488</td>\n",
       "      <td>1.998699</td>\n",
       "      <td>0.799480</td>\n",
       "    </tr>\n",
       "    <tr>\n",
       "      <th>min</th>\n",
       "      <td>1.238822</td>\n",
       "      <td>0.095529</td>\n",
       "      <td>0.009126</td>\n",
       "      <td>1.772694</td>\n",
       "      <td>0.309078</td>\n",
       "    </tr>\n",
       "    <tr>\n",
       "      <th>25%</th>\n",
       "      <td>7.408161</td>\n",
       "      <td>2.563264</td>\n",
       "      <td>6.570634</td>\n",
       "      <td>5.002526</td>\n",
       "      <td>1.601010</td>\n",
       "    </tr>\n",
       "    <tr>\n",
       "      <th>50%</th>\n",
       "      <td>14.683931</td>\n",
       "      <td>5.473572</td>\n",
       "      <td>29.960363</td>\n",
       "      <td>6.848908</td>\n",
       "      <td>2.339563</td>\n",
       "    </tr>\n",
       "    <tr>\n",
       "      <th>75%</th>\n",
       "      <td>22.504152</td>\n",
       "      <td>8.601661</td>\n",
       "      <td>73.989326</td>\n",
       "      <td>8.332138</td>\n",
       "      <td>2.932855</td>\n",
       "    </tr>\n",
       "    <tr>\n",
       "      <th>max</th>\n",
       "      <td>25.866052</td>\n",
       "      <td>9.946421</td>\n",
       "      <td>98.931284</td>\n",
       "      <td>8.884487</td>\n",
       "      <td>3.153795</td>\n",
       "    </tr>\n",
       "  </tbody>\n",
       "</table>\n",
       "</div>"
      ],
      "text/plain": [
       "                y          x1     x1_sqrd          y1     x1_sqrt\n",
       "count  100.000000  100.000000  100.000000  100.000000  100.000000\n",
       "mean    14.361599    5.344639   38.506023    6.426707    2.170683\n",
       "std      7.921989    3.168796   34.046488    1.998699    0.799480\n",
       "min      1.238822    0.095529    0.009126    1.772694    0.309078\n",
       "25%      7.408161    2.563264    6.570634    5.002526    1.601010\n",
       "50%     14.683931    5.473572   29.960363    6.848908    2.339563\n",
       "75%     22.504152    8.601661   73.989326    8.332138    2.932855\n",
       "max     25.866052    9.946421   98.931284    8.884487    3.153795"
      ]
     },
     "execution_count": 17,
     "metadata": {},
     "output_type": "execute_result"
    }
   ],
   "source": [
    "data[\"x1_sqrt\"] = np.sqrt( data.x1)\n",
    "data[\"y1\"] = 1.00 + 2.5 * data.x1_sqrt\n",
    "\n",
    "data.describe()"
   ]
  },
  {
   "cell_type": "markdown",
   "metadata": {},
   "source": [
    "Again, we don't the true generating function so we start with $x_1$:"
   ]
  },
  {
   "cell_type": "code",
   "execution_count": 18,
   "metadata": {},
   "outputs": [
    {
     "name": "stdout",
     "output_type": "stream",
     "text": [
      "Model: y1 ~ x1\n",
      "------------  ---------  -----\n",
      "Coefficients             Value\n",
      "              $\\beta_0$  3.12\n",
      "x1            $\\beta_1$  0.62\n",
      "\n",
      "Metrics       Value\n",
      "$\\sigma$      0.39\n",
      "$R^2$         0.96\n",
      "------------  ---------  -----\n"
     ]
    }
   ],
   "source": [
    "result = models.linear_regression(\"y1 ~ x1\", data)\n",
    "print(models.simple_describe_lr(result))"
   ]
  },
  {
   "cell_type": "code",
   "execution_count": 19,
   "metadata": {},
   "outputs": [
    {
     "data": {
      "image/png": "[encoded data removed]",
      "text/plain": [
       "<Figure size 720x432 with 2 Axes>"
      ]
     },
     "metadata": {},
     "output_type": "display_data"
    }
   ],
   "source": [
    "figure = plt.figure(figsize=(10,6))\n",
    "\n",
    "axes = figure.add_subplot(2, 1, 1)\n",
    "\n",
    "axes.scatter(data.x1, data.y1, color=\"dimgray\", alpha=0.5)\n",
    "beta = result[\"coefficients\"]\n",
    "axes.plot(data.x1, [beta[ 0] + beta[ 1] * x for x in data.x1], '-', color=\"firebrick\")\n",
    "axes.set_title(result[ \"formula\"])\n",
    "axes.set_xlim((0, 10))\n",
    "axes.set_xlabel( \"x_1\")\n",
    "\n",
    "axes = figure.add_subplot(2, 1, 2)\n",
    "\n",
    "keyed_values = sorted(zip(data.x1, result[\"residuals\"]), key=lambda x: x[ 0])\n",
    "\n",
    "residuals = [x[ 1][ 0] for x in keyed_values]\n",
    "\n",
    "axes.plot(list(range(0, result[ \"n\"])), residuals, '.', color=\"dimgray\", alpha=0.75)\n",
    "axes.axhline(y=0.0, xmin=0, xmax=result[ \"n\"], c=\"black\", alpha=0.5)\n",
    "axes.set_title( \"x_1 v. residuals\")\n",
    "axes.set_xlabel( \"x_1 sorted\")\n",
    "axes.set_ylim((-30.0, 30.0))\n",
    "\n",
    "plt.show()\n",
    "plt.close()"
   ]
  },
  {
   "cell_type": "markdown",
   "metadata": {},
   "source": [
    "We have the opposite pattern.\n",
    "\n",
    "We can go in a lot of different directions from here. For example, all of the models so far are noiseless...there are no \"unknown unknowns\". Additionally, $x_1$ is from a uniform distribution...and not one of the myriad other distributions that $x_i$ could be from."
   ]
  },
  {
   "cell_type": "markdown",
   "metadata": {},
   "source": [
    "## Noise\n",
    "\n",
    "When we start thinking about generating functions for fake data, we need to think a bit about how the pieces all fit together. Oddly enough, this also allows us to interpret the various parameters ($\\beta_i, \\sigma$) of real models better.\n",
    "\n",
    "Remember that coefficients ($\\beta_i, i > 0$) are both the *effect* of a variable and the *scaling* or *translation* of it into the units of $y$. Consider the following model:\n",
    "\n",
    "$y = 10.0 + 2.5 x_1 - 3.5 x_2 + 1.7 x_3 - 2.9 x_4 + N(0, 2.5)$\n",
    "\n",
    "We can read this as starting with the value \"10.0\", adding 2.5 units of $y$ for each unit of $x_1$, subtracting 3.5 units of y for each unit of $x_2$, adding 1.7 units of y per unit of $x_3$ and subtracting 2.9 units of $y$ for each unit of $x_4$. Finally, we add a bit of noise to represent the \"(un)known unknowns\".\n",
    "\n",
    "Where this all ends up depends on the domains of the variables $x_1$, $x_2$, $x_3$, $x_4$. We do know that if and when all the $x$'s are equal to zero, $y$ is effectively:\n",
    "\n",
    "$y = N(10.0, 2.5)$\n",
    "\n",
    "if you remember from the earliest module, the coefficient of variation, $v$, is $\\frac{std}{mean}$ or 2.5/10 = 0.25 (25.0%). That may be a lot of noise depending on the domains of $x$. This is the key point I want you take away. These can lead to very different results. Here is the current model we've been working with using $\\epsilon$ = 0.25, 2.5, 5.0 and the resulting models:"
   ]
  },
  {
   "cell_type": "code",
   "execution_count": 20,
   "metadata": {},
   "outputs": [
    {
     "data": {
      "text/html": [
       "<div>\n",
       "<style scoped>\n",
       "    .dataframe tbody tr th:only-of-type {\n",
       "        vertical-align: middle;\n",
       "    }\n",
       "\n",
       "    .dataframe tbody tr th {\n",
       "        vertical-align: top;\n",
       "    }\n",
       "\n",
       "    .dataframe thead th {\n",
       "        text-align: right;\n",
       "    }\n",
       "</style>\n",
       "<table border=\"1\" class=\"dataframe\">\n",
       "  <thead>\n",
       "    <tr style=\"text-align: right;\">\n",
       "      <th></th>\n",
       "      <th>y</th>\n",
       "      <th>x1</th>\n",
       "      <th>x1_sqrd</th>\n",
       "      <th>y1</th>\n",
       "      <th>x1_sqrt</th>\n",
       "    </tr>\n",
       "  </thead>\n",
       "  <tbody>\n",
       "    <tr>\n",
       "      <th>count</th>\n",
       "      <td>100.000000</td>\n",
       "      <td>100.000000</td>\n",
       "      <td>100.000000</td>\n",
       "      <td>100.000000</td>\n",
       "      <td>100.000000</td>\n",
       "    </tr>\n",
       "    <tr>\n",
       "      <th>mean</th>\n",
       "      <td>14.353545</td>\n",
       "      <td>5.344639</td>\n",
       "      <td>38.506023</td>\n",
       "      <td>6.426707</td>\n",
       "      <td>2.170683</td>\n",
       "    </tr>\n",
       "    <tr>\n",
       "      <th>std</th>\n",
       "      <td>7.923677</td>\n",
       "      <td>3.168796</td>\n",
       "      <td>34.046488</td>\n",
       "      <td>1.998699</td>\n",
       "      <td>0.799480</td>\n",
       "    </tr>\n",
       "    <tr>\n",
       "      <th>min</th>\n",
       "      <td>1.133556</td>\n",
       "      <td>0.095529</td>\n",
       "      <td>0.009126</td>\n",
       "      <td>1.772694</td>\n",
       "      <td>0.309078</td>\n",
       "    </tr>\n",
       "    <tr>\n",
       "      <th>25%</th>\n",
       "      <td>7.349998</td>\n",
       "      <td>2.563264</td>\n",
       "      <td>6.570634</td>\n",
       "      <td>5.002526</td>\n",
       "      <td>1.601010</td>\n",
       "    </tr>\n",
       "    <tr>\n",
       "      <th>50%</th>\n",
       "      <td>14.852596</td>\n",
       "      <td>5.473572</td>\n",
       "      <td>29.960363</td>\n",
       "      <td>6.848908</td>\n",
       "      <td>2.339563</td>\n",
       "    </tr>\n",
       "    <tr>\n",
       "      <th>75%</th>\n",
       "      <td>22.448807</td>\n",
       "      <td>8.601661</td>\n",
       "      <td>73.989326</td>\n",
       "      <td>8.332138</td>\n",
       "      <td>2.932855</td>\n",
       "    </tr>\n",
       "    <tr>\n",
       "      <th>max</th>\n",
       "      <td>25.367600</td>\n",
       "      <td>9.946421</td>\n",
       "      <td>98.931284</td>\n",
       "      <td>8.884487</td>\n",
       "      <td>3.153795</td>\n",
       "    </tr>\n",
       "  </tbody>\n",
       "</table>\n",
       "</div>"
      ],
      "text/plain": [
       "                y          x1     x1_sqrd          y1     x1_sqrt\n",
       "count  100.000000  100.000000  100.000000  100.000000  100.000000\n",
       "mean    14.353545    5.344639   38.506023    6.426707    2.170683\n",
       "std      7.923677    3.168796   34.046488    1.998699    0.799480\n",
       "min      1.133556    0.095529    0.009126    1.772694    0.309078\n",
       "25%      7.349998    2.563264    6.570634    5.002526    1.601010\n",
       "50%     14.852596    5.473572   29.960363    6.848908    2.339563\n",
       "75%     22.448807    8.601661   73.989326    8.332138    2.932855\n",
       "max     25.367600    9.946421   98.931284    8.884487    3.153795"
      ]
     },
     "execution_count": 20,
     "metadata": {},
     "output_type": "execute_result"
    }
   ],
   "source": [
    "e = stats.norm.rvs(0, 0.25, 100)\n",
    "data[ \"y\"] = 1.00 + 2.5 * x1 + e\n",
    "\n",
    "data.describe()"
   ]
  },
  {
   "cell_type": "markdown",
   "metadata": {},
   "source": [
    "And, you guessed it, let's estimate the model:"
   ]
  },
  {
   "cell_type": "code",
   "execution_count": 21,
   "metadata": {},
   "outputs": [
    {
     "name": "stdout",
     "output_type": "stream",
     "text": [
      "Model: y ~ x1\n",
      "------------  ---------  -----\n",
      "Coefficients             Value\n",
      "              $\\beta_0$  0.99\n",
      "x1            $\\beta_1$  2.50\n",
      "\n",
      "Metrics       Value\n",
      "$\\sigma$      0.22\n",
      "$R^2$         1.00\n",
      "------------  ---------  -----\n"
     ]
    }
   ],
   "source": [
    "result = models.linear_regression(\"y ~ x1\", data)\n",
    "print(models.simple_describe_lr(result))"
   ]
  },
  {
   "cell_type": "markdown",
   "metadata": {},
   "source": [
    "This isn't a lot of noise but it is some:"
   ]
  },
  {
   "cell_type": "code",
   "execution_count": 22,
   "metadata": {},
   "outputs": [
    {
     "data": {
      "image/png": "[encoded data removed]",
      "text/plain": [
       "<Figure size 720x432 with 2 Axes>"
      ]
     },
     "metadata": {},
     "output_type": "display_data"
    }
   ],
   "source": [
    "figure = plt.figure(figsize=(10,6))\n",
    "\n",
    "axes = figure.add_subplot(2, 1, 1)\n",
    "\n",
    "axes.scatter(data.x1, data.y, color=\"dimgray\", alpha=0.5)\n",
    "beta = result[\"coefficients\"]\n",
    "axes.plot(data.x1, [beta[ 0] + beta[ 1] * x for x in data.x1], '-', color=\"firebrick\")\n",
    "axes.set_title(result[ \"formula\"])\n",
    "axes.set_xlim((0, 10))\n",
    "axes.set_xlabel( \"x_1\")\n",
    "\n",
    "axes = figure.add_subplot(2, 1, 2)\n",
    "\n",
    "keyed_values = sorted(zip(data.x1, result[\"residuals\"]), key=lambda x: x[ 0])\n",
    "\n",
    "residuals = [x[ 1][ 0] for x in keyed_values]\n",
    "\n",
    "axes.plot(list(range(0, result[ \"n\"])), residuals, '.', color=\"dimgray\", alpha=0.75)\n",
    "axes.axhline(y=0.0, xmin=0, xmax=result[ \"n\"], c=\"black\", alpha=0.5)\n",
    "axes.set_title( \"x_1 v. residuals\")\n",
    "axes.set_xlabel( \"x_1 sorted\")\n",
    "axes.set_ylim((-30.0, 30.0))\n",
    "\n",
    "plt.show()\n",
    "plt.close()"
   ]
  },
  {
   "cell_type": "markdown",
   "metadata": {},
   "source": [
    "Let's add more noise."
   ]
  },
  {
   "cell_type": "code",
   "execution_count": 23,
   "metadata": {},
   "outputs": [],
   "source": [
    "e = stats.norm.rvs(0, 2.5, 100)\n",
    "data[ \"y\"] = 1.00 + 2.5 * x1 + e"
   ]
  },
  {
   "cell_type": "markdown",
   "metadata": {},
   "source": [
    "We'll estimate the model again:"
   ]
  },
  {
   "cell_type": "code",
   "execution_count": 24,
   "metadata": {},
   "outputs": [
    {
     "name": "stdout",
     "output_type": "stream",
     "text": [
      "Model: y ~ x1\n",
      "------------  ---------  -----\n",
      "Coefficients             Value\n",
      "              $\\beta_0$  1.17\n",
      "x1            $\\beta_1$  2.40\n",
      "\n",
      "Metrics       Value\n",
      "$\\sigma$      2.12\n",
      "$R^2$         0.93\n",
      "------------  ---------  -----\n"
     ]
    }
   ],
   "source": [
    "result = models.linear_regression(\"y ~ x1\", data)\n",
    "print(models.simple_describe_lr(result))"
   ]
  },
  {
   "cell_type": "markdown",
   "metadata": {},
   "source": [
    "And plot the data, model, and residuals:"
   ]
  },
  {
   "cell_type": "code",
   "execution_count": 25,
   "metadata": {},
   "outputs": [
    {
     "data": {
      "image/png": "[encoded data removed]",
      "text/plain": [
       "<Figure size 720x432 with 2 Axes>"
      ]
     },
     "metadata": {},
     "output_type": "display_data"
    }
   ],
   "source": [
    "figure = plt.figure(figsize=(10,6))\n",
    "\n",
    "axes = figure.add_subplot(2, 1, 1)\n",
    "\n",
    "axes.scatter(data.x1, data.y, color=\"dimgray\", alpha=0.5)\n",
    "beta = result[\"coefficients\"]\n",
    "axes.plot(data.x1, [beta[ 0] + beta[ 1] * x for x in data.x1], '-', color=\"firebrick\")\n",
    "axes.set_title(result[ \"formula\"])\n",
    "axes.set_xlim((0, 10))\n",
    "axes.set_xlabel( \"x_1\")\n",
    "\n",
    "axes = figure.add_subplot(2, 1, 2)\n",
    "\n",
    "keyed_values = sorted(zip(data.x1, result[\"residuals\"]), key=lambda x: x[ 0])\n",
    "\n",
    "residuals = [x[ 1][ 0] for x in keyed_values]\n",
    "\n",
    "axes.plot(list(range(0, result[ \"n\"])), residuals, '.', color=\"dimgray\", alpha=0.75)\n",
    "axes.axhline(y=0.0, xmin=0, xmax=result[ \"n\"], c=\"black\", alpha=0.5)\n",
    "axes.set_title( \"x_1 v. residuals\")\n",
    "axes.set_xlabel( \"x_1 sorted\")\n",
    "axes.set_ylim((-30.0, 30.0))\n",
    "\n",
    "plt.show()\n",
    "plt.close()"
   ]
  },
  {
   "cell_type": "markdown",
   "metadata": {},
   "source": [
    "This is closer to the residuals we might start to see. Let's increase the noise one more time:"
   ]
  },
  {
   "cell_type": "code",
   "execution_count": 26,
   "metadata": {},
   "outputs": [],
   "source": [
    "e = stats.norm.rvs(0, 10.0, 100)\n",
    "data[ \"y\"] = 1.00 + 2.5 * x1 + e"
   ]
  },
  {
   "cell_type": "markdown",
   "metadata": {},
   "source": [
    "Fit our model:"
   ]
  },
  {
   "cell_type": "code",
   "execution_count": 27,
   "metadata": {},
   "outputs": [
    {
     "name": "stdout",
     "output_type": "stream",
     "text": [
      "Model: y ~ x1\n",
      "------------  ---------  -----\n",
      "Coefficients             Value\n",
      "              $\\beta_0$  2.63\n",
      "x1            $\\beta_1$  2.45\n",
      "\n",
      "Metrics       Value\n",
      "$\\sigma$      10.32\n",
      "$R^2$         0.36\n",
      "------------  ---------  -----\n"
     ]
    }
   ],
   "source": [
    "result = models.linear_regression(\"y ~ x1\", data)\n",
    "print(models.simple_describe_lr(result))"
   ]
  },
  {
   "cell_type": "markdown",
   "metadata": {},
   "source": [
    "And chart the data, model, and residuals:"
   ]
  },
  {
   "cell_type": "code",
   "execution_count": 28,
   "metadata": {},
   "outputs": [
    {
     "data": {
      "image/png": "[encoded data removed]",
      "text/plain": [
       "<Figure size 720x432 with 2 Axes>"
      ]
     },
     "metadata": {},
     "output_type": "display_data"
    }
   ],
   "source": [
    "figure = plt.figure(figsize=(10,6))\n",
    "\n",
    "axes = figure.add_subplot(2, 1, 1)\n",
    "\n",
    "axes.scatter(data.x1, data.y, color=\"dimgray\", alpha=0.5)\n",
    "beta = result[\"coefficients\"]\n",
    "axes.plot(data.x1, [beta[ 0] + beta[ 1] * x for x in data.x1], '-', color=\"firebrick\")\n",
    "axes.set_title(result[ \"formula\"])\n",
    "axes.set_xlim((0, 10))\n",
    "axes.set_xlabel( \"x_1\")\n",
    "\n",
    "axes = figure.add_subplot(2, 1, 2)\n",
    "\n",
    "keyed_values = sorted(zip(data.x1, result[\"residuals\"]), key=lambda x: x[ 0])\n",
    "\n",
    "residuals = [x[ 1][ 0] for x in keyed_values]\n",
    "\n",
    "axes.plot(list(range(0, result[ \"n\"])), residuals, '.', color=\"dimgray\", alpha=0.75)\n",
    "axes.axhline(y=0.0, xmin=0, xmax=result[ \"n\"], c=\"black\", alpha=0.5)\n",
    "axes.set_title( \"x_1 v. residuals\")\n",
    "axes.set_xlabel( \"x_1 sorted\")\n",
    "axes.set_ylim((-30.0, 30.0))\n",
    "\n",
    "plt.show()\n",
    "plt.close()"
   ]
  },
  {
   "cell_type": "markdown",
   "metadata": {},
   "source": [
    "This looks a bit more realistic but what if we revisit one of our earlier models with a squared term? We can look all in one fell swoop."
   ]
  },
  {
   "cell_type": "code",
   "execution_count": 29,
   "metadata": {},
   "outputs": [
    {
     "data": {
      "image/png": "[encoded data removed]",
      "text/plain": [
       "<Figure size 720x432 with 2 Axes>"
      ]
     },
     "metadata": {},
     "output_type": "display_data"
    }
   ],
   "source": [
    "e = stats.norm.rvs(0, 10.0, 100)\n",
    "data[ \"y1\"] = 1.00 + 2.5 * data.x1_sqrd + e\n",
    "\n",
    "result = models.linear_regression(\"y1 ~ x1\", data)\n",
    "models.simple_describe_lr(result)\n",
    "\n",
    "figure = plt.figure(figsize=(10,6))\n",
    "\n",
    "axes = figure.add_subplot(2, 1, 1)\n",
    "\n",
    "axes.scatter(data.x1, data.y1, color=\"dimgray\", alpha=0.5)\n",
    "beta = result[\"coefficients\"]\n",
    "axes.plot(data.x1, [beta[ 0] + beta[ 1] * x for x in data.x1], '-', color=\"firebrick\")\n",
    "axes.set_title(result[ \"formula\"])\n",
    "axes.set_xlim((0, 10))\n",
    "axes.set_xlabel(r\"$x_1$\")\n",
    "axes.set_ylabel(r\"$y_1$\")\n",
    "axes = figure.add_subplot(2, 1, 2)\n",
    "\n",
    "keyed_values = sorted(zip(data.x1, result[\"residuals\"]), key=lambda x: x[ 0])\n",
    "\n",
    "residuals = [x[ 1][ 0] for x in keyed_values]\n",
    "\n",
    "axes.plot(list(range(0, result[ \"n\"])), residuals, '.', color=\"dimgray\", alpha=0.75)\n",
    "axes.axhline(y=0.0, xmin=0, xmax=result[ \"n\"], c=\"black\", alpha=0.5)\n",
    "axes.set_title( r\"$x_1$ v. residuals\")\n",
    "axes.set_xlabel( r\"$x_1$ sorted\")\n",
    "axes.set_ylabel(\"residuals\")\n",
    "axes.set_ylim((-30.0, 30.0))\n",
    "\n",
    "plt.show()\n",
    "plt.close()"
   ]
  },
  {
   "cell_type": "markdown",
   "metadata": {},
   "source": [
    "## Full Multivariate Model\n",
    "\n",
    "You need to look at the residuals for all of your numerical variables. Let's look at the multivariate model from above:\n",
    "\n",
    "$y = 10.0 + 2.5 x_1 - 3.5 x_2 + 1.7 x_3 - 2.9 x_4 + N(0, 5.0)$\n",
    "\n",
    "we can we can use as a data generating model. To make things interesting, we're only going to use the first two variables, $x_1$ and $x_2$:\n",
    "\n",
    "$\\hat{y} = \\beta_0 + \\beta_1 x_1 + \\beta_2 x_2 + \\epsilon$\n",
    "\n",
    "We'll generate the variables we need from Normal distributions:"
   ]
  },
  {
   "cell_type": "code",
   "execution_count": 30,
   "metadata": {},
   "outputs": [],
   "source": [
    "data[\"x2\"] = stats.norm.rvs(5, 0.5, 100)\n",
    "data[\"x3\"] = stats.norm.rvs(7, 0.2, 100)\n",
    "data[\"x4\"] = stats.norm.rvs(8, 0.3, 100)\n",
    "data[\"x5\"] = stats.norm.rvs(3, 0.3, 100)\n",
    "data[\"y\"] = 10.0 + 2.5 * data.x1 - 3.5 * data.x2 + 1.7 * data.x3 - 2.9 * data.x4 + stats.norm.rvs(0, 5,100)"
   ]
  },
  {
   "cell_type": "markdown",
   "metadata": {},
   "source": [
    "And describe it:"
   ]
  },
  {
   "cell_type": "code",
   "execution_count": 31,
   "metadata": {},
   "outputs": [
    {
     "data": {
      "text/html": [
       "<div>\n",
       "<style scoped>\n",
       "    .dataframe tbody tr th:only-of-type {\n",
       "        vertical-align: middle;\n",
       "    }\n",
       "\n",
       "    .dataframe tbody tr th {\n",
       "        vertical-align: top;\n",
       "    }\n",
       "\n",
       "    .dataframe thead th {\n",
       "        text-align: right;\n",
       "    }\n",
       "</style>\n",
       "<table border=\"1\" class=\"dataframe\">\n",
       "  <thead>\n",
       "    <tr style=\"text-align: right;\">\n",
       "      <th></th>\n",
       "      <th>y</th>\n",
       "      <th>x1</th>\n",
       "      <th>x1_sqrd</th>\n",
       "      <th>y1</th>\n",
       "      <th>x1_sqrt</th>\n",
       "      <th>x2</th>\n",
       "      <th>x3</th>\n",
       "      <th>x4</th>\n",
       "      <th>x5</th>\n",
       "    </tr>\n",
       "  </thead>\n",
       "  <tbody>\n",
       "    <tr>\n",
       "      <th>count</th>\n",
       "      <td>100.000000</td>\n",
       "      <td>100.000000</td>\n",
       "      <td>100.000000</td>\n",
       "      <td>100.000000</td>\n",
       "      <td>100.000000</td>\n",
       "      <td>100.000000</td>\n",
       "      <td>100.000000</td>\n",
       "      <td>100.000000</td>\n",
       "      <td>100.000000</td>\n",
       "    </tr>\n",
       "    <tr>\n",
       "      <th>mean</th>\n",
       "      <td>-6.342219</td>\n",
       "      <td>5.344639</td>\n",
       "      <td>38.506023</td>\n",
       "      <td>97.683711</td>\n",
       "      <td>2.170683</td>\n",
       "      <td>5.028293</td>\n",
       "      <td>6.977789</td>\n",
       "      <td>8.074251</td>\n",
       "      <td>3.017084</td>\n",
       "    </tr>\n",
       "    <tr>\n",
       "      <th>std</th>\n",
       "      <td>8.379301</td>\n",
       "      <td>3.168796</td>\n",
       "      <td>34.046488</td>\n",
       "      <td>86.167871</td>\n",
       "      <td>0.799480</td>\n",
       "      <td>0.517574</td>\n",
       "      <td>0.201689</td>\n",
       "      <td>0.320094</td>\n",
       "      <td>0.325489</td>\n",
       "    </tr>\n",
       "    <tr>\n",
       "      <th>min</th>\n",
       "      <td>-26.411007</td>\n",
       "      <td>0.095529</td>\n",
       "      <td>0.009126</td>\n",
       "      <td>-19.351237</td>\n",
       "      <td>0.309078</td>\n",
       "      <td>3.927467</td>\n",
       "      <td>6.511310</td>\n",
       "      <td>7.109811</td>\n",
       "      <td>2.099009</td>\n",
       "    </tr>\n",
       "    <tr>\n",
       "      <th>25%</th>\n",
       "      <td>-12.851496</td>\n",
       "      <td>2.563264</td>\n",
       "      <td>6.570634</td>\n",
       "      <td>19.135166</td>\n",
       "      <td>1.601010</td>\n",
       "      <td>4.716104</td>\n",
       "      <td>6.834748</td>\n",
       "      <td>7.889215</td>\n",
       "      <td>2.805623</td>\n",
       "    </tr>\n",
       "    <tr>\n",
       "      <th>50%</th>\n",
       "      <td>-4.895713</td>\n",
       "      <td>5.473572</td>\n",
       "      <td>29.960363</td>\n",
       "      <td>77.022920</td>\n",
       "      <td>2.339563</td>\n",
       "      <td>5.020235</td>\n",
       "      <td>6.980163</td>\n",
       "      <td>8.058954</td>\n",
       "      <td>3.029154</td>\n",
       "    </tr>\n",
       "    <tr>\n",
       "      <th>75%</th>\n",
       "      <td>-0.553659</td>\n",
       "      <td>8.601661</td>\n",
       "      <td>73.989326</td>\n",
       "      <td>186.761802</td>\n",
       "      <td>2.932855</td>\n",
       "      <td>5.371569</td>\n",
       "      <td>7.134441</td>\n",
       "      <td>8.276449</td>\n",
       "      <td>3.232930</td>\n",
       "    </tr>\n",
       "    <tr>\n",
       "      <th>max</th>\n",
       "      <td>12.850611</td>\n",
       "      <td>9.946421</td>\n",
       "      <td>98.931284</td>\n",
       "      <td>250.967081</td>\n",
       "      <td>3.153795</td>\n",
       "      <td>6.151773</td>\n",
       "      <td>7.404249</td>\n",
       "      <td>8.899653</td>\n",
       "      <td>3.767994</td>\n",
       "    </tr>\n",
       "  </tbody>\n",
       "</table>\n",
       "</div>"
      ],
      "text/plain": [
       "                y          x1     x1_sqrd          y1     x1_sqrt          x2  \\\n",
       "count  100.000000  100.000000  100.000000  100.000000  100.000000  100.000000   \n",
       "mean    -6.342219    5.344639   38.506023   97.683711    2.170683    5.028293   \n",
       "std      8.379301    3.168796   34.046488   86.167871    0.799480    0.517574   \n",
       "min    -26.411007    0.095529    0.009126  -19.351237    0.309078    3.927467   \n",
       "25%    -12.851496    2.563264    6.570634   19.135166    1.601010    4.716104   \n",
       "50%     -4.895713    5.473572   29.960363   77.022920    2.339563    5.020235   \n",
       "75%     -0.553659    8.601661   73.989326  186.761802    2.932855    5.371569   \n",
       "max     12.850611    9.946421   98.931284  250.967081    3.153795    6.151773   \n",
       "\n",
       "               x3          x4          x5  \n",
       "count  100.000000  100.000000  100.000000  \n",
       "mean     6.977789    8.074251    3.017084  \n",
       "std      0.201689    0.320094    0.325489  \n",
       "min      6.511310    7.109811    2.099009  \n",
       "25%      6.834748    7.889215    2.805623  \n",
       "50%      6.980163    8.058954    3.029154  \n",
       "75%      7.134441    8.276449    3.232930  \n",
       "max      7.404249    8.899653    3.767994  "
      ]
     },
     "execution_count": 31,
     "metadata": {},
     "output_type": "execute_result"
    }
   ],
   "source": [
    "data.describe()"
   ]
  },
  {
   "cell_type": "markdown",
   "metadata": {},
   "source": [
    "Let's estimate the first model:"
   ]
  },
  {
   "cell_type": "code",
   "execution_count": 32,
   "metadata": {},
   "outputs": [
    {
     "name": "stdout",
     "output_type": "stream",
     "text": [
      "Model: y ~ x1 + x2\n",
      "------------  ---------  -----\n",
      "Coefficients             Value\n",
      "              $\\beta_0$  -6.10\n",
      "x1            $\\beta_1$  2.13\n",
      "x2            $\\beta_2$  -2.32\n",
      "\n",
      "Metrics       Value\n",
      "$\\sigma$      4.74\n",
      "$R^2$         0.69\n",
      "------------  ---------  -----\n"
     ]
    }
   ],
   "source": [
    "result = models.linear_regression(\"y ~ x1 + x2\", data)\n",
    "print(models.simple_describe_lr(result))"
   ]
  },
  {
   "cell_type": "markdown",
   "metadata": {},
   "source": [
    "The $R^2$ isn't bad but there's clearly room for improvement. We've included the obvious features. We have a few more variables we didn't include but which ones should we pick? Let's look at the residuals:"
   ]
  },
  {
   "cell_type": "code",
   "execution_count": 33,
   "metadata": {},
   "outputs": [
    {
     "data": {
      "image/png": "[encoded data removed]",
      "text/plain": [
       "<Figure size 720x432 with 2 Axes>"
      ]
     },
     "metadata": {},
     "output_type": "display_data"
    }
   ],
   "source": [
    "figure = plt.figure(figsize=(10,6))\n",
    "\n",
    "axes = figure.add_subplot(2, 1, 1)\n",
    "\n",
    "keyed_values = sorted(zip(data.x1, result[\"residuals\"]), key=lambda x: x[ 0])\n",
    "residuals = [x[ 1][ 0] for x in keyed_values]\n",
    "\n",
    "axes.plot(list(range(0, result[ \"n\"])), residuals, '.', color=\"dimgray\", alpha=0.75)\n",
    "axes.axhline(y=0.0, xmin=0, xmax=result[ \"n\"], c=\"black\", alpha=0.5)\n",
    "axes.set_title( r\"$x_1$ v. residuals\")\n",
    "axes.set_xlabel( r\"$x_1$ sorted\")\n",
    "axes.set_ylabel(\"residuals\")\n",
    "axes.set_ylim((-10.0, 10.0))\n",
    "\n",
    "axes = figure.add_subplot(2, 1, 2)\n",
    "\n",
    "keyed_values = sorted(zip(data.x2, result[\"residuals\"]), key=lambda x: x[ 0])\n",
    "residuals = [x[ 1][ 0] for x in keyed_values]\n",
    "\n",
    "axes.plot(list(range(0, result[ \"n\"])), residuals, '.', color=\"dimgray\", alpha=0.75)\n",
    "axes.axhline(y=0.0, xmin=0, xmax=result[ \"n\"], c=\"black\", alpha=0.5)\n",
    "axes.set_title( r\"$x_2$ v. residuals\")\n",
    "axes.set_xlabel( r\"$x_2$ sorted\")\n",
    "axes.set_ylabel(\"residuals\")\n",
    "axes.set_ylim((-10.0, 10.0))\n",
    "\n",
    "plt.show()\n",
    "plt.close()"
   ]
  },
  {
   "cell_type": "markdown",
   "metadata": {},
   "source": [
    "The residuals don't show any patterns. The residuals are in a weird format, let's make them a regular array:"
   ]
  },
  {
   "cell_type": "code",
   "execution_count": 34,
   "metadata": {},
   "outputs": [],
   "source": [
    "residuals = [r[0] for r in result[\"residuals\"]]"
   ]
  },
  {
   "cell_type": "markdown",
   "metadata": {},
   "source": [
    "And let's think about what residuals are. Residuals are the difference between the observed y and the estimated y, $\\hat{y}$. $\\hat{y}$ is based on a linear equation. If the equation were missing a term, $\\beta_3 x_3$, for example, then the residuals must be missing it, too. Because the $\\beta_3$ is a constant, the correlation must exist between the residuals and the variable. Does it?"
   ]
  },
  {
   "cell_type": "code",
   "execution_count": 35,
   "metadata": {},
   "outputs": [
    {
     "name": "stdout",
     "output_type": "stream",
     "text": [
      "x_1 = 0.00\n"
     ]
    }
   ],
   "source": [
    "print(\"x_1 = {0:.2f}\".format(stats.pearsonr(residuals, data.x1)[0]))"
   ]
  },
  {
   "cell_type": "markdown",
   "metadata": {},
   "source": [
    "We're not missing $x_1$. $x_2$?"
   ]
  },
  {
   "cell_type": "code",
   "execution_count": 36,
   "metadata": {},
   "outputs": [
    {
     "name": "stdout",
     "output_type": "stream",
     "text": [
      "x_2 = 0.00\n"
     ]
    }
   ],
   "source": [
    "print(\"x_2 = {0:.2f}\".format(stats.pearsonr(residuals, data.x2)[0]))"
   ]
  },
  {
   "cell_type": "markdown",
   "metadata": {},
   "source": [
    "We're not missing $x_2$ $x_3$?"
   ]
  },
  {
   "cell_type": "code",
   "execution_count": 37,
   "metadata": {},
   "outputs": [
    {
     "name": "stdout",
     "output_type": "stream",
     "text": [
      "x_3 = 0.20\n"
     ]
    }
   ],
   "source": [
    "print(\"x_3 = {0:.2f}\".format(stats.pearsonr(residuals, data.x3)[0]))"
   ]
  },
  {
   "cell_type": "markdown",
   "metadata": {},
   "source": [
    "We might be missing $x_3$. $x_4$?"
   ]
  },
  {
   "cell_type": "code",
   "execution_count": 38,
   "metadata": {},
   "outputs": [
    {
     "name": "stdout",
     "output_type": "stream",
     "text": [
      "x_4 = -0.08\n"
     ]
    }
   ],
   "source": [
    "print(\"x_4 = {0:.2f}\".format(stats.pearsonr(residuals, data.x4)[0]))"
   ]
  },
  {
   "cell_type": "markdown",
   "metadata": {},
   "source": [
    "We might be missing $x_4$. $x_5$?"
   ]
  },
  {
   "cell_type": "code",
   "execution_count": 39,
   "metadata": {},
   "outputs": [
    {
     "name": "stdout",
     "output_type": "stream",
     "text": [
      "x_5 = 0.03\n"
     ]
    }
   ],
   "source": [
    "print(\"x_5 = {0:.2f}\".format(stats.pearsonr(residuals, data.x5)[0]))"
   ]
  },
  {
   "cell_type": "markdown",
   "metadata": {},
   "source": [
    "I added in $x_5$ so that you could see that this is not foolproof. We know that we are not missing $x_5$. We also know that we are missing both $x_3$ and $x_4$ but the correlations with the residuals are not huge. This will depend on the noise in the data, $N(0, \\sigma)$, which we cannot know.\n",
    "\n",
    "If there is a clear domain reason for including this values, then we should do it. Of course, this is science, so we might consider if there *must* be a reason:"
   ]
  },
  {
   "cell_type": "code",
   "execution_count": 40,
   "metadata": {},
   "outputs": [
    {
     "name": "stdout",
     "output_type": "stream",
     "text": [
      "Model: y ~ x1 + x2 + x3 + x4 + x5\n",
      "------------  ---------  ------\n",
      "Coefficients             Value\n",
      "              $\\beta_0$  -32.05\n",
      "x1            $\\beta_1$  2.16\n",
      "x2            $\\beta_2$  -2.62\n",
      "x3            $\\beta_3$  5.09\n",
      "x4            $\\beta_4$  -1.26\n",
      "x5            $\\beta_5$  0.66\n",
      "\n",
      "Metrics       Value\n",
      "$\\sigma$      4.69\n",
      "$R^2$         0.70\n",
      "------------  ---------  ------\n"
     ]
    }
   ],
   "source": [
    "result = models.linear_regression(\"y ~ x1 + x2 + x3 + x4 + x5\", data)\n",
    "print(models.simple_describe_lr(result))"
   ]
  },
  {
   "cell_type": "markdown",
   "metadata": {},
   "source": [
    "These are all a bit off their true values:\n",
    "\n",
    "$y = 10.0 + 2.5 x_1 - 3.5 x_2 + 1.7 x_3 - 2.9 x_4 + N(0, 5.0)$\n",
    "\n",
    "versus\n",
    "\n",
    "$\\hat{y} = -32.1 + 2.2 x_1 - 2.6 x_2 + 5.1 x_3 - 1.3 x_4 + 0.66 x_5 + N(0, 4.7)$\n",
    "\n",
    "Can the Bootstrap help?"
   ]
  },
  {
   "cell_type": "code",
   "execution_count": 41,
   "metadata": {},
   "outputs": [
    {
     "name": "stdout",
     "output_type": "stream",
     "text": [
      "Model: y ~ x1 + x2 + x3 + x4 + x5\n",
      "------------  ---------  ------  -------  -----\n",
      "                                 95% BCI\n",
      "Coefficients             Mean    Lo       Hi\n",
      "              $\\beta_0$  -32.05  -75.57   13.23\n",
      "x1            $\\beta_1$  2.16    1.89     2.53\n",
      "x2            $\\beta_2$  -2.62   -5.11    -0.59\n",
      "x3            $\\beta_3$  5.09    1.06     11.37\n",
      "x4            $\\beta_4$  -1.26   -5.17    1.59\n",
      "x5            $\\beta_5$  0.66    -2.89    3.54\n",
      "\n",
      "Metrics       Mean       Lo      Hi\n",
      "$\\sigma$      4.69       3.83    5.03\n",
      "$R^2$         0.70       0.64    0.81\n",
      "------------  ---------  ------  -------  -----\n"
     ]
    }
   ],
   "source": [
    "result = models.bootstrap_linear_regression(\"y ~ x1 + x2 + x3 + x4 + x5\", data)\n",
    "print(models.describe_bootstrap_lr(result))"
   ]
  },
  {
   "cell_type": "markdown",
   "metadata": {},
   "source": [
    "If we follow the advice from the previous section, all the coefficients have their expected signs except $\\beta_5$ which we should remove. $x_4$ is a bit dodgey but we're assuming that \"omniscience\" wins out in this case. Still, it's interesting to see if you don't have strong domain knowledge for including a variable in the model, estimation alone may not give you a reason to keep it in."
   ]
  },
  {
   "cell_type": "code",
   "execution_count": 42,
   "metadata": {},
   "outputs": [
    {
     "name": "stdout",
     "output_type": "stream",
     "text": [
      "Model: y ~ x1 + x2 + x3 + x4\n",
      "------------  ---------  ------  -------  -----\n",
      "                                 95% BCI\n",
      "Coefficients             Mean    Lo       Hi\n",
      "              $\\beta_0$  -28.51  -79.89   10.44\n",
      "x1            $\\beta_1$  2.16    1.84     2.52\n",
      "x2            $\\beta_2$  -2.60   -4.82    -0.78\n",
      "x3            $\\beta_3$  4.95    0.92     9.89\n",
      "x4            $\\beta_4$  -1.34   -5.23    1.80\n",
      "\n",
      "Metrics       Mean       Lo      Hi\n",
      "$\\sigma$      4.67       3.86    5.02\n",
      "$R^2$         0.70       0.64    0.80\n",
      "------------  ---------  ------  -------  -----\n"
     ]
    }
   ],
   "source": [
    "result = models.bootstrap_linear_regression(\"y ~ x1 + x2 + x3 + x4\", data)\n",
    "print(models.describe_bootstrap_lr(result))"
   ]
  },
  {
   "cell_type": "markdown",
   "metadata": {},
   "source": [
    "It isn't perfect but it is closer. We *know* that $x_4$ is in the actual data but we can't seem to recover that. Perhaps the effect is too small relative to the noise or we need more data (try to simulate getting more data). We would, of course, look at the residuals again."
   ]
  },
  {
   "cell_type": "markdown",
   "metadata": {},
   "source": [
    "## Unequal Variance\n",
    "\n",
    "One of the assumptions for linear regression is that the noise has an equal variance. If you happen to have unequal variance, it looks something like this:"
   ]
  },
  {
   "cell_type": "code",
   "execution_count": 43,
   "metadata": {},
   "outputs": [
    {
     "data": {
      "text/html": [
       "<div>\n",
       "<style scoped>\n",
       "    .dataframe tbody tr th:only-of-type {\n",
       "        vertical-align: middle;\n",
       "    }\n",
       "\n",
       "    .dataframe tbody tr th {\n",
       "        vertical-align: top;\n",
       "    }\n",
       "\n",
       "    .dataframe thead th {\n",
       "        text-align: right;\n",
       "    }\n",
       "</style>\n",
       "<table border=\"1\" class=\"dataframe\">\n",
       "  <thead>\n",
       "    <tr style=\"text-align: right;\">\n",
       "      <th></th>\n",
       "      <th>y</th>\n",
       "      <th>x1</th>\n",
       "      <th>x1_sqrd</th>\n",
       "      <th>y1</th>\n",
       "      <th>x1_sqrt</th>\n",
       "      <th>x2</th>\n",
       "      <th>x3</th>\n",
       "      <th>x4</th>\n",
       "      <th>x5</th>\n",
       "      <th>e</th>\n",
       "    </tr>\n",
       "  </thead>\n",
       "  <tbody>\n",
       "    <tr>\n",
       "      <th>count</th>\n",
       "      <td>100.000000</td>\n",
       "      <td>100.000000</td>\n",
       "      <td>100.000000</td>\n",
       "      <td>100.000000</td>\n",
       "      <td>100.000000</td>\n",
       "      <td>100.000000</td>\n",
       "      <td>100.000000</td>\n",
       "      <td>100.000000</td>\n",
       "      <td>100.000000</td>\n",
       "      <td>100.000000</td>\n",
       "    </tr>\n",
       "    <tr>\n",
       "      <th>mean</th>\n",
       "      <td>-6.342219</td>\n",
       "      <td>5.344639</td>\n",
       "      <td>38.506023</td>\n",
       "      <td>23.478040</td>\n",
       "      <td>2.170683</td>\n",
       "      <td>5.028293</td>\n",
       "      <td>6.977789</td>\n",
       "      <td>8.074251</td>\n",
       "      <td>3.017084</td>\n",
       "      <td>0.116441</td>\n",
       "    </tr>\n",
       "    <tr>\n",
       "      <th>std</th>\n",
       "      <td>8.379301</td>\n",
       "      <td>3.168796</td>\n",
       "      <td>34.046488</td>\n",
       "      <td>8.525640</td>\n",
       "      <td>0.799480</td>\n",
       "      <td>0.517574</td>\n",
       "      <td>0.201689</td>\n",
       "      <td>0.320094</td>\n",
       "      <td>0.325489</td>\n",
       "      <td>2.604933</td>\n",
       "    </tr>\n",
       "    <tr>\n",
       "      <th>min</th>\n",
       "      <td>-26.411007</td>\n",
       "      <td>0.095529</td>\n",
       "      <td>0.009126</td>\n",
       "      <td>10.291584</td>\n",
       "      <td>0.309078</td>\n",
       "      <td>3.927467</td>\n",
       "      <td>6.511310</td>\n",
       "      <td>7.109811</td>\n",
       "      <td>2.099009</td>\n",
       "      <td>-5.807186</td>\n",
       "    </tr>\n",
       "    <tr>\n",
       "      <th>25%</th>\n",
       "      <td>-12.851496</td>\n",
       "      <td>2.563264</td>\n",
       "      <td>6.570634</td>\n",
       "      <td>15.942443</td>\n",
       "      <td>1.601010</td>\n",
       "      <td>4.716104</td>\n",
       "      <td>6.834748</td>\n",
       "      <td>7.889215</td>\n",
       "      <td>2.805623</td>\n",
       "      <td>-1.406709</td>\n",
       "    </tr>\n",
       "    <tr>\n",
       "      <th>50%</th>\n",
       "      <td>-4.895713</td>\n",
       "      <td>5.473572</td>\n",
       "      <td>29.960363</td>\n",
       "      <td>22.624271</td>\n",
       "      <td>2.339563</td>\n",
       "      <td>5.020235</td>\n",
       "      <td>6.980163</td>\n",
       "      <td>8.058954</td>\n",
       "      <td>3.029154</td>\n",
       "      <td>-0.066891</td>\n",
       "    </tr>\n",
       "    <tr>\n",
       "      <th>75%</th>\n",
       "      <td>-0.553659</td>\n",
       "      <td>8.601661</td>\n",
       "      <td>73.989326</td>\n",
       "      <td>30.726388</td>\n",
       "      <td>2.932855</td>\n",
       "      <td>5.371569</td>\n",
       "      <td>7.134441</td>\n",
       "      <td>8.276449</td>\n",
       "      <td>3.232930</td>\n",
       "      <td>1.476717</td>\n",
       "    </tr>\n",
       "    <tr>\n",
       "      <th>max</th>\n",
       "      <td>12.850611</td>\n",
       "      <td>9.946421</td>\n",
       "      <td>98.931284</td>\n",
       "      <td>41.381870</td>\n",
       "      <td>3.153795</td>\n",
       "      <td>6.151773</td>\n",
       "      <td>7.404249</td>\n",
       "      <td>8.899653</td>\n",
       "      <td>3.767994</td>\n",
       "      <td>9.371082</td>\n",
       "    </tr>\n",
       "  </tbody>\n",
       "</table>\n",
       "</div>"
      ],
      "text/plain": [
       "                y          x1     x1_sqrd          y1     x1_sqrt          x2  \\\n",
       "count  100.000000  100.000000  100.000000  100.000000  100.000000  100.000000   \n",
       "mean    -6.342219    5.344639   38.506023   23.478040    2.170683    5.028293   \n",
       "std      8.379301    3.168796   34.046488    8.525640    0.799480    0.517574   \n",
       "min    -26.411007    0.095529    0.009126   10.291584    0.309078    3.927467   \n",
       "25%    -12.851496    2.563264    6.570634   15.942443    1.601010    4.716104   \n",
       "50%     -4.895713    5.473572   29.960363   22.624271    2.339563    5.020235   \n",
       "75%     -0.553659    8.601661   73.989326   30.726388    2.932855    5.371569   \n",
       "max     12.850611    9.946421   98.931284   41.381870    3.153795    6.151773   \n",
       "\n",
       "               x3          x4          x5           e  \n",
       "count  100.000000  100.000000  100.000000  100.000000  \n",
       "mean     6.977789    8.074251    3.017084    0.116441  \n",
       "std      0.201689    0.320094    0.325489    2.604933  \n",
       "min      6.511310    7.109811    2.099009   -5.807186  \n",
       "25%      6.834748    7.889215    2.805623   -1.406709  \n",
       "50%      6.980163    8.058954    3.029154   -0.066891  \n",
       "75%      7.134441    8.276449    3.232930    1.476717  \n",
       "max      7.404249    8.899653    3.767994    9.371082  "
      ]
     },
     "execution_count": 43,
     "metadata": {},
     "output_type": "execute_result"
    }
   ],
   "source": [
    "data[\"e\"] = data.x1.apply(lambda x: stats.norm.rvs(0, 0.5 * x, 1)[0])\n",
    "data[\"y1\"] = 10.0 + 2.5 * data.x1 + data.e\n",
    "data.describe()"
   ]
  },
  {
   "cell_type": "markdown",
   "metadata": {},
   "source": [
    "This data doesn't look much different than any of the other synthetic data we've created before except that I've done something a little sneaky. If you look at the calculation of $e$, I've made the $sigma$ a function of $x_1$. Let's see what this does:"
   ]
  },
  {
   "cell_type": "code",
   "execution_count": 44,
   "metadata": {},
   "outputs": [
    {
     "name": "stdout",
     "output_type": "stream",
     "text": [
      "Model: y1 ~ x1\n",
      "------------  ---------  -----\n",
      "Coefficients             Value\n",
      "              $\\beta_0$  9.78\n",
      "x1            $\\beta_1$  2.56\n",
      "\n",
      "Metrics       Value\n",
      "$\\sigma$      2.61\n",
      "$R^2$         0.91\n",
      "------------  ---------  -----\n"
     ]
    }
   ],
   "source": [
    "result = models.linear_regression(\"y1 ~ x1\", data)\n",
    "print(models.simple_describe_lr(result))"
   ]
  },
  {
   "cell_type": "code",
   "execution_count": 45,
   "metadata": {},
   "outputs": [
    {
     "data": {
      "image/png": "[encoded data removed]",
      "text/plain": [
       "<Figure size 720x432 with 2 Axes>"
      ]
     },
     "metadata": {},
     "output_type": "display_data"
    }
   ],
   "source": [
    "figure = plt.figure(figsize=(10,6))\n",
    "\n",
    "axes = figure.add_subplot(2, 1, 1)\n",
    "\n",
    "axes.scatter(data.x1, data.y1, color=\"dimgray\", alpha=0.5)\n",
    "beta = result[\"coefficients\"]\n",
    "axes.plot(data.x1, [beta[ 0] + beta[ 1] * x for x in data.x1], '-', color=\"firebrick\")\n",
    "axes.set_title(result[ \"formula\"])\n",
    "axes.set_xlim((0, 10))\n",
    "axes.set_xlabel( \"x_1\")\n",
    "\n",
    "axes = figure.add_subplot(2, 1, 2)\n",
    "\n",
    "keyed_values = sorted(zip(data.x1, result[\"residuals\"]), key=lambda x: x[ 0])\n",
    "\n",
    "residuals = [x[ 1][ 0] for x in keyed_values]\n",
    "\n",
    "axes.plot(list(range(0, result[ \"n\"])), residuals, '.', color=\"dimgray\", alpha=0.75)\n",
    "axes.axhline(y=0.0, xmin=0, xmax=result[ \"n\"], c=\"black\", alpha=0.5)\n",
    "axes.set_title( \"x_1 v. residuals\")\n",
    "axes.set_xlabel( \"x_1 sorted\")\n",
    "axes.set_ylim((-10.0, 10.0))\n",
    "\n",
    "plt.show()\n",
    "plt.close()"
   ]
  },
  {
   "cell_type": "markdown",
   "metadata": {},
   "source": [
    "Notice that the residuals get larger as $x_1$ gets larger. This violates the assumption of equal variance. This doesn't generally affect the estimation of the coefficients but it can affect the overall performance of the model. This is just something to be aware of."
   ]
  },
  {
   "cell_type": "markdown",
   "metadata": {},
   "source": [
    "It's worth noting that EDA will often uncover many of these relationships before you even get to look at residuals."
   ]
  }
 ],
 "metadata": {
  "kernelspec": {
   "display_name": "Python (en685648)",
   "language": "python",
   "name": "en685648"
  },
  "language_info": {
   "codemirror_mode": {
    "name": "ipython",
    "version": 3
   },
   "file_extension": ".py",
   "mimetype": "text/x-python",
   "name": "python",
   "nbconvert_exporter": "python",
   "pygments_lexer": "ipython3",
   "version": "3.7.1"
  },
  "toc": {
   "colors": {
    "hover_highlight": "#DAA520",
    "navigate_num": "#000000",
    "navigate_text": "#333333",
    "running_highlight": "#FF0000",
    "selected_highlight": "#FFD700",
    "sidebar_border": "#EEEEEE",
    "wrapper_background": "#FFFFFF"
   },
   "moveMenuLeft": true,
   "nav_menu": {
    "height": "12px",
    "width": "252px"
   },
   "navigate_menu": true,
   "number_sections": true,
   "sideBar": true,
   "threshold": 4,
   "toc_cell": false,
   "toc_section_display": "block",
   "toc_window_display": false,
   "widenNotebook": false
  }
 },
 "nbformat": 4,
 "nbformat_minor": 2
}
